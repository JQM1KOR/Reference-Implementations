{
 "cells": [
  {
   "cell_type": "markdown",
   "id": "df5c8c11",
   "metadata": {},
   "source": [
    "Readme\n",
    "=======\n",
    "\n",
    "Requirements : \n",
    "1. AWS Subscription - for using SageMaker and its associated services  \n",
    "2. AIShield subscription details - URL and subscription key for for making call to image classification service for vulnerability analysis\n",
    "3. Training script and its requirements file (for required library installation) is already present inside code folder. The code folder can be copied the current working directory and its path need to be specified accordingly in the reference notebook.\n",
    "\n",
    "Steps : \n",
    "1. Create a SageMaker notebook with configuration as - Python 3 (Tensorflow 2.3 Python 3.7). 'CPU optimized' configuration should solve the purpose if its not compute heavy. \n",
    "2. Import and open the provided notebook and code folder to the environment.\n",
    "3. Follow the steps as mentioned in the notebook.\n",
    "4. Variable/parameter values need to be changed as per run configuration.\n"
   ]
  },
  {
   "cell_type": "code",
   "execution_count": 1,
   "id": "cef36fb5",
   "metadata": {},
   "outputs": [
    {
     "name": "stdout",
     "output_type": "stream",
     "text": [
      "Requirement already satisfied: matplotlib in /usr/local/lib/python3.7/site-packages (3.5.1)\n",
      "Requirement already satisfied: numpy>=1.17 in /usr/local/lib/python3.7/site-packages (from matplotlib) (1.18.5)\n",
      "Requirement already satisfied: pyparsing>=2.2.1 in /usr/local/lib/python3.7/site-packages (from matplotlib) (2.4.7)\n",
      "Requirement already satisfied: pillow>=6.2.0 in /usr/local/lib/python3.7/site-packages (from matplotlib) (8.2.0)\n",
      "Requirement already satisfied: packaging>=20.0 in /usr/local/lib/python3.7/site-packages (from matplotlib) (20.9)\n",
      "Requirement already satisfied: cycler>=0.10 in /usr/local/lib/python3.7/site-packages (from matplotlib) (0.11.0)\n",
      "Requirement already satisfied: fonttools>=4.22.0 in /usr/local/lib/python3.7/site-packages (from matplotlib) (4.33.2)\n",
      "Requirement already satisfied: python-dateutil>=2.7 in /usr/local/lib/python3.7/site-packages (from matplotlib) (2.8.2)\n",
      "Requirement already satisfied: kiwisolver>=1.0.1 in /usr/local/lib/python3.7/site-packages (from matplotlib) (1.4.2)\n",
      "Requirement already satisfied: typing-extensions in /usr/local/lib/python3.7/site-packages (from kiwisolver>=1.0.1->matplotlib) (3.10.0.0)\n",
      "Requirement already satisfied: six>=1.5 in /usr/local/lib/python3.7/site-packages (from python-dateutil>=2.7->matplotlib) (1.16.0)\n",
      "\u001b[33mWARNING: Running pip as root will break packages and permissions. You should install packages reliably by using venv: https://pip.pypa.io/warnings/venv\u001b[0m\n",
      "\u001b[33mWARNING: You are using pip version 21.1.2; however, version 21.3.1 is available.\n",
      "You should consider upgrading via the '/usr/local/bin/python3.7 -m pip install --upgrade pip' command.\u001b[0m\n"
     ]
    }
   ],
   "source": [
    "!pip install matplotlib"
   ]
  },
  {
   "cell_type": "code",
   "execution_count": 2,
   "id": "8f2d5184",
   "metadata": {},
   "outputs": [],
   "source": [
    "import os\n",
    "import numpy as np\n",
    "import pandas as pd\n",
    "import time\n",
    "import random\n",
    "import cv2\n",
    "import gzip\n",
    "import zipfile\n",
    "import shutil\n",
    "import tarfile\n",
    "import requests\n",
    "import json\n",
    "import matplotlib.pyplot as plt\n",
    "%matplotlib inline\n",
    "\n",
    "import tensorflow as tf\n",
    "from tensorflow import keras\n",
    "# from tensorflow.keras import datasets\n",
    "\n",
    "import sagemaker\n",
    "from sagemaker.tensorflow import TensorFlow, TensorFlowModel\n",
    "from sagemaker import get_execution_role\n",
    "\n",
    "import warnings\n",
    "warnings.filterwarnings(\"ignore\")"
   ]
  },
  {
   "cell_type": "code",
   "execution_count": 3,
   "id": "f44eee20",
   "metadata": {},
   "outputs": [],
   "source": [
    "sess = sagemaker.Session()\n",
    "role = get_execution_role()"
   ]
  },
  {
   "cell_type": "code",
   "execution_count": 4,
   "id": "67bf11bf",
   "metadata": {},
   "outputs": [
    {
     "name": "stdout",
     "output_type": "stream",
     "text": [
      "s3://sagemaker-eu-central-1-901214976877/tensorflow/mnist\n"
     ]
    }
   ],
   "source": [
    "output_path = \"s3://\" + sess.default_bucket() + \"/tensorflow/mnist\"\n",
    "print(output_path)"
   ]
  },
  {
   "cell_type": "markdown",
   "id": "63cb08f9",
   "metadata": {},
   "source": [
    "### Data"
   ]
  },
  {
   "cell_type": "code",
   "execution_count": 5,
   "id": "8d4adb33",
   "metadata": {},
   "outputs": [],
   "source": [
    "import logging\n",
    "import boto3\n",
    "from botocore.exceptions import ClientError\n",
    "\n",
    "# Download training and testing data from a public S3 bucket\n",
    "def download_from_s3(data_dir=\"/tmp/data\", train=True):\n",
    "    \"\"\"Download MNIST dataset and convert it to numpy array\n",
    "\n",
    "    Args:\n",
    "        data_dir (str): directory to save the data\n",
    "        train (bool): download training set\n",
    "\n",
    "    Returns:\n",
    "        None\n",
    "    \"\"\"\n",
    "\n",
    "    if not os.path.exists(data_dir):\n",
    "        os.makedirs(data_dir)\n",
    "\n",
    "    if train:\n",
    "        images_file = \"train-images-idx3-ubyte.gz\"\n",
    "        labels_file = \"train-labels-idx1-ubyte.gz\"\n",
    "    else:\n",
    "        images_file = \"t10k-images-idx3-ubyte.gz\"\n",
    "        labels_file = \"t10k-labels-idx1-ubyte.gz\"\n",
    "\n",
    "    # download objects\n",
    "    s3 = boto3.client(\"s3\")\n",
    "    bucket = f\"sagemaker-sample-files\"\n",
    "    for obj in [images_file, labels_file]:\n",
    "        key = os.path.join(\"datasets/image/MNIST\", obj)\n",
    "        dest = os.path.join(data_dir, obj)\n",
    "        if not os.path.exists(dest):\n",
    "            s3.download_file(bucket, key, dest)\n",
    "    return\n",
    "\n",
    "\n",
    "download_from_s3(\"/tmp/data\", True)\n",
    "download_from_s3(\"/tmp/data\", False)"
   ]
  },
  {
   "cell_type": "code",
   "execution_count": 6,
   "id": "149a585e",
   "metadata": {},
   "outputs": [],
   "source": [
    "# upload to the default S3 bucket\n",
    "\n",
    "prefix = \"mnist\"\n",
    "bucket = sess.default_bucket()\n",
    "loc = sess.upload_data(path=\"/tmp/data\", bucket=bucket, key_prefix=prefix)\n",
    "\n",
    "channels = {\"training\": loc, \"testing\": loc}"
   ]
  },
  {
   "cell_type": "markdown",
   "id": "378c654f",
   "metadata": {},
   "source": [
    "### Modelling"
   ]
  },
  {
   "cell_type": "code",
   "execution_count": 7,
   "id": "602be368",
   "metadata": {},
   "outputs": [
    {
     "name": "stdout",
     "output_type": "stream",
     "text": [
      "\u001b[34mfrom\u001b[39;49;00m \u001b[04m\u001b[36m__future__\u001b[39;49;00m \u001b[34mimport\u001b[39;49;00m print_function\n",
      "\n",
      "\u001b[34mimport\u001b[39;49;00m \u001b[04m\u001b[36margparse\u001b[39;49;00m\n",
      "\u001b[34mimport\u001b[39;49;00m \u001b[04m\u001b[36mgzip\u001b[39;49;00m\n",
      "\u001b[34mimport\u001b[39;49;00m \u001b[04m\u001b[36mjson\u001b[39;49;00m\n",
      "\u001b[34mimport\u001b[39;49;00m \u001b[04m\u001b[36mlogging\u001b[39;49;00m\n",
      "\u001b[34mimport\u001b[39;49;00m \u001b[04m\u001b[36mos\u001b[39;49;00m\n",
      "\u001b[34mimport\u001b[39;49;00m \u001b[04m\u001b[36mtraceback\u001b[39;49;00m\n",
      "\n",
      "\u001b[34mimport\u001b[39;49;00m \u001b[04m\u001b[36mnumpy\u001b[39;49;00m \u001b[34mas\u001b[39;49;00m \u001b[04m\u001b[36mnp\u001b[39;49;00m\n",
      "\u001b[34mimport\u001b[39;49;00m \u001b[04m\u001b[36mtensorflow\u001b[39;49;00m \u001b[34mas\u001b[39;49;00m \u001b[04m\u001b[36mtf\u001b[39;49;00m\n",
      "\u001b[34mfrom\u001b[39;49;00m \u001b[04m\u001b[36mtensorflow\u001b[39;49;00m\u001b[04m\u001b[36m.\u001b[39;49;00m\u001b[04m\u001b[36mkeras\u001b[39;49;00m \u001b[34mimport\u001b[39;49;00m Model\n",
      "\u001b[34mfrom\u001b[39;49;00m \u001b[04m\u001b[36mtensorflow\u001b[39;49;00m\u001b[04m\u001b[36m.\u001b[39;49;00m\u001b[04m\u001b[36mkeras\u001b[39;49;00m\u001b[04m\u001b[36m.\u001b[39;49;00m\u001b[04m\u001b[36mlayers\u001b[39;49;00m \u001b[34mimport\u001b[39;49;00m Conv2D, Dense, Flatten\n",
      "\n",
      "logging.basicConfig(level=logging.DEBUG)\n",
      "\n",
      "\u001b[37m# Define the model object\u001b[39;49;00m\n",
      "\n",
      "\n",
      "\u001b[34mclass\u001b[39;49;00m \u001b[04m\u001b[32mSmallConv\u001b[39;49;00m(Model):\n",
      "    \u001b[34mdef\u001b[39;49;00m \u001b[32m__init__\u001b[39;49;00m(\u001b[36mself\u001b[39;49;00m):\n",
      "        \u001b[36msuper\u001b[39;49;00m(SmallConv, \u001b[36mself\u001b[39;49;00m).\u001b[32m__init__\u001b[39;49;00m()\n",
      "        \u001b[36mself\u001b[39;49;00m.conv1 = Conv2D(\u001b[34m32\u001b[39;49;00m, \u001b[34m3\u001b[39;49;00m, activation=\u001b[33m\"\u001b[39;49;00m\u001b[33mrelu\u001b[39;49;00m\u001b[33m\"\u001b[39;49;00m)\n",
      "        \u001b[36mself\u001b[39;49;00m.flatten = Flatten()\n",
      "        \u001b[36mself\u001b[39;49;00m.d1 = Dense(\u001b[34m128\u001b[39;49;00m, activation=\u001b[33m\"\u001b[39;49;00m\u001b[33mrelu\u001b[39;49;00m\u001b[33m\"\u001b[39;49;00m)\n",
      "        \u001b[36mself\u001b[39;49;00m.d2 = Dense(\u001b[34m10\u001b[39;49;00m)\n",
      "\n",
      "    \u001b[34mdef\u001b[39;49;00m \u001b[32mcall\u001b[39;49;00m(\u001b[36mself\u001b[39;49;00m, x):\n",
      "        x = \u001b[36mself\u001b[39;49;00m.conv1(x)\n",
      "        x = \u001b[36mself\u001b[39;49;00m.flatten(x)\n",
      "        x = \u001b[36mself\u001b[39;49;00m.d1(x)\n",
      "        \u001b[34mreturn\u001b[39;49;00m \u001b[36mself\u001b[39;49;00m.d2(x)\n",
      "\n",
      "\n",
      "\u001b[37m# Decode and preprocess data\u001b[39;49;00m\n",
      "\u001b[34mdef\u001b[39;49;00m \u001b[32mconvert_to_numpy\u001b[39;49;00m(data_dir, images_file, labels_file):\n",
      "    \u001b[33m\"\"\"Byte string to numpy arrays\"\"\"\u001b[39;49;00m\n",
      "    \u001b[34mwith\u001b[39;49;00m gzip.open(os.path.join(data_dir, images_file), \u001b[33m\"\u001b[39;49;00m\u001b[33mrb\u001b[39;49;00m\u001b[33m\"\u001b[39;49;00m) \u001b[34mas\u001b[39;49;00m f:\n",
      "        images = np.frombuffer(f.read(), np.uint8, offset=\u001b[34m16\u001b[39;49;00m).reshape(-\u001b[34m1\u001b[39;49;00m, \u001b[34m28\u001b[39;49;00m, \u001b[34m28\u001b[39;49;00m)\n",
      "\n",
      "    \u001b[34mwith\u001b[39;49;00m gzip.open(os.path.join(data_dir, labels_file), \u001b[33m\"\u001b[39;49;00m\u001b[33mrb\u001b[39;49;00m\u001b[33m\"\u001b[39;49;00m) \u001b[34mas\u001b[39;49;00m f:\n",
      "        labels = np.frombuffer(f.read(), np.uint8, offset=\u001b[34m8\u001b[39;49;00m)\n",
      "\n",
      "    \u001b[34mreturn\u001b[39;49;00m (images, labels)\n",
      "\n",
      "\n",
      "\u001b[34mdef\u001b[39;49;00m \u001b[32mmnist_to_numpy\u001b[39;49;00m(data_dir, train):\n",
      "    \u001b[33m\"\"\"Load raw MNIST data into numpy array\u001b[39;49;00m\n",
      "\u001b[33m\u001b[39;49;00m\n",
      "\u001b[33m    Args:\u001b[39;49;00m\n",
      "\u001b[33m        data_dir (str): directory of MNIST raw data.\u001b[39;49;00m\n",
      "\u001b[33m            This argument can be accessed via SM_CHANNEL_TRAINING\u001b[39;49;00m\n",
      "\u001b[33m\u001b[39;49;00m\n",
      "\u001b[33m        train (bool): use training data\u001b[39;49;00m\n",
      "\u001b[33m\u001b[39;49;00m\n",
      "\u001b[33m    Returns:\u001b[39;49;00m\n",
      "\u001b[33m        tuple of images and labels as numpy array\u001b[39;49;00m\n",
      "\u001b[33m    \"\"\"\u001b[39;49;00m\n",
      "\n",
      "    \u001b[34mif\u001b[39;49;00m train:\n",
      "        images_file = \u001b[33m\"\u001b[39;49;00m\u001b[33mtrain-images-idx3-ubyte.gz\u001b[39;49;00m\u001b[33m\"\u001b[39;49;00m\n",
      "        labels_file = \u001b[33m\"\u001b[39;49;00m\u001b[33mtrain-labels-idx1-ubyte.gz\u001b[39;49;00m\u001b[33m\"\u001b[39;49;00m\n",
      "    \u001b[34melse\u001b[39;49;00m:\n",
      "        images_file = \u001b[33m\"\u001b[39;49;00m\u001b[33mt10k-images-idx3-ubyte.gz\u001b[39;49;00m\u001b[33m\"\u001b[39;49;00m\n",
      "        labels_file = \u001b[33m\"\u001b[39;49;00m\u001b[33mt10k-labels-idx1-ubyte.gz\u001b[39;49;00m\u001b[33m\"\u001b[39;49;00m\n",
      "\n",
      "    \u001b[34mreturn\u001b[39;49;00m convert_to_numpy(data_dir, images_file, labels_file)\n",
      "\n",
      "\n",
      "\u001b[34mdef\u001b[39;49;00m \u001b[32mnormalize\u001b[39;49;00m(x, axis):\n",
      "    eps = np.finfo(\u001b[36mfloat\u001b[39;49;00m).eps\n",
      "\n",
      "    mean = np.mean(x, axis=axis, keepdims=\u001b[34mTrue\u001b[39;49;00m)\n",
      "    \u001b[37m# avoid division by zero\u001b[39;49;00m\n",
      "    std = np.std(x, axis=axis, keepdims=\u001b[34mTrue\u001b[39;49;00m) + eps\n",
      "    \u001b[34mreturn\u001b[39;49;00m (x - mean) / std\n",
      "\n",
      "\n",
      "\u001b[37m# Training logic\u001b[39;49;00m\n",
      "\n",
      "\n",
      "\u001b[34mdef\u001b[39;49;00m \u001b[32mtrain\u001b[39;49;00m(args):\n",
      "    \u001b[37m# create data loader from the train / test channels\u001b[39;49;00m\n",
      "    x_train, y_train = mnist_to_numpy(data_dir=args.train, train=\u001b[34mTrue\u001b[39;49;00m)\n",
      "    x_test, y_test = mnist_to_numpy(data_dir=args.test, train=\u001b[34mFalse\u001b[39;49;00m)\n",
      "\n",
      "    x_train, x_test = x_train.astype(np.float32), x_test.astype(np.float32)\n",
      "\n",
      "    \u001b[37m# normalize the inputs to mean 0 and std 1\u001b[39;49;00m\n",
      "    x_train, x_test = normalize(x_train, (\u001b[34m1\u001b[39;49;00m, \u001b[34m2\u001b[39;49;00m)), normalize(x_test, (\u001b[34m1\u001b[39;49;00m, \u001b[34m2\u001b[39;49;00m))\n",
      "\n",
      "    \u001b[37m# expand channel axis\u001b[39;49;00m\n",
      "    \u001b[37m# tf uses depth minor convention\u001b[39;49;00m\n",
      "    x_train, x_test = np.expand_dims(x_train, axis=\u001b[34m3\u001b[39;49;00m), np.expand_dims(x_test, axis=\u001b[34m3\u001b[39;49;00m)\n",
      "\n",
      "    \u001b[37m# normalize the data to mean 0 and std 1\u001b[39;49;00m\n",
      "    train_loader = (\n",
      "        tf.data.Dataset.from_tensor_slices((x_train, y_train))\n",
      "        .shuffle(\u001b[36mlen\u001b[39;49;00m(x_train))\n",
      "        .batch(args.batch_size)\n",
      "    )\n",
      "\n",
      "    test_loader = tf.data.Dataset.from_tensor_slices((x_test, y_test)).batch(args.batch_size)\n",
      "\n",
      "    model = SmallConv()\n",
      "    model.compile()\n",
      "    loss_fn = tf.keras.losses.SparseCategoricalCrossentropy(from_logits=\u001b[34mTrue\u001b[39;49;00m)\n",
      "    optimizer = tf.keras.optimizers.Adam(\n",
      "        learning_rate=args.learning_rate, beta_1=args.beta_1, beta_2=args.beta_2\n",
      "    )\n",
      "\n",
      "    train_loss = tf.keras.metrics.Mean(name=\u001b[33m\"\u001b[39;49;00m\u001b[33mtrain_loss\u001b[39;49;00m\u001b[33m\"\u001b[39;49;00m)\n",
      "    train_accuracy = tf.keras.metrics.SparseCategoricalAccuracy(name=\u001b[33m\"\u001b[39;49;00m\u001b[33mtrain_accuracy\u001b[39;49;00m\u001b[33m\"\u001b[39;49;00m)\n",
      "\n",
      "    test_loss = tf.keras.metrics.Mean(name=\u001b[33m\"\u001b[39;49;00m\u001b[33mtest_loss\u001b[39;49;00m\u001b[33m\"\u001b[39;49;00m)\n",
      "    test_accuracy = tf.keras.metrics.SparseCategoricalAccuracy(name=\u001b[33m\"\u001b[39;49;00m\u001b[33mtest_accuracy\u001b[39;49;00m\u001b[33m\"\u001b[39;49;00m)\n",
      "\n",
      "    \u001b[90m@tf\u001b[39;49;00m.function\n",
      "    \u001b[34mdef\u001b[39;49;00m \u001b[32mtrain_step\u001b[39;49;00m(images, labels):\n",
      "        \u001b[34mwith\u001b[39;49;00m tf.GradientTape() \u001b[34mas\u001b[39;49;00m tape:\n",
      "            predictions = model(images, training=\u001b[34mTrue\u001b[39;49;00m)\n",
      "            loss = loss_fn(labels, predictions)\n",
      "        grad = tape.gradient(loss, model.trainable_variables)\n",
      "        optimizer.apply_gradients(\u001b[36mzip\u001b[39;49;00m(grad, model.trainable_variables))\n",
      "\n",
      "        train_loss(loss)\n",
      "        train_accuracy(labels, predictions)\n",
      "        \u001b[34mreturn\u001b[39;49;00m\n",
      "\n",
      "    \u001b[90m@tf\u001b[39;49;00m.function\n",
      "    \u001b[34mdef\u001b[39;49;00m \u001b[32mtest_step\u001b[39;49;00m(images, labels):\n",
      "        predictions = model(images, training=\u001b[34mFalse\u001b[39;49;00m)\n",
      "        t_loss = loss_fn(labels, predictions)\n",
      "        test_loss(t_loss)\n",
      "        test_accuracy(labels, predictions)\n",
      "        \u001b[34mreturn\u001b[39;49;00m\n",
      "\n",
      "    \u001b[36mprint\u001b[39;49;00m(\u001b[33m\"\u001b[39;49;00m\u001b[33mTraining starts ...\u001b[39;49;00m\u001b[33m\"\u001b[39;49;00m)\n",
      "    \u001b[34mfor\u001b[39;49;00m epoch \u001b[35min\u001b[39;49;00m \u001b[36mrange\u001b[39;49;00m(args.epochs):\n",
      "        train_loss.reset_states()\n",
      "        train_accuracy.reset_states()\n",
      "        test_loss.reset_states()\n",
      "        test_accuracy.reset_states()\n",
      "\n",
      "        \u001b[34mfor\u001b[39;49;00m batch, (images, labels) \u001b[35min\u001b[39;49;00m \u001b[36menumerate\u001b[39;49;00m(train_loader):\n",
      "            train_step(images, labels)\n",
      "\n",
      "        \u001b[34mfor\u001b[39;49;00m images, labels \u001b[35min\u001b[39;49;00m test_loader:\n",
      "            test_step(images, labels)\n",
      "\n",
      "        \u001b[36mprint\u001b[39;49;00m(\n",
      "            \u001b[33mf\u001b[39;49;00m\u001b[33m\"\u001b[39;49;00m\u001b[33mEpoch \u001b[39;49;00m\u001b[33m{\u001b[39;49;00mepoch + \u001b[34m1\u001b[39;49;00m\u001b[33m}\u001b[39;49;00m\u001b[33m, \u001b[39;49;00m\u001b[33m\"\u001b[39;49;00m\n",
      "            \u001b[33mf\u001b[39;49;00m\u001b[33m\"\u001b[39;49;00m\u001b[33mLoss: \u001b[39;49;00m\u001b[33m{\u001b[39;49;00mtrain_loss.result()\u001b[33m}\u001b[39;49;00m\u001b[33m, \u001b[39;49;00m\u001b[33m\"\u001b[39;49;00m\n",
      "            \u001b[33mf\u001b[39;49;00m\u001b[33m\"\u001b[39;49;00m\u001b[33mAccuracy: \u001b[39;49;00m\u001b[33m{\u001b[39;49;00mtrain_accuracy.result() * \u001b[34m100\u001b[39;49;00m\u001b[33m}\u001b[39;49;00m\u001b[33m, \u001b[39;49;00m\u001b[33m\"\u001b[39;49;00m\n",
      "            \u001b[33mf\u001b[39;49;00m\u001b[33m\"\u001b[39;49;00m\u001b[33mTest Loss: \u001b[39;49;00m\u001b[33m{\u001b[39;49;00mtest_loss.result()\u001b[33m}\u001b[39;49;00m\u001b[33m, \u001b[39;49;00m\u001b[33m\"\u001b[39;49;00m\n",
      "            \u001b[33mf\u001b[39;49;00m\u001b[33m\"\u001b[39;49;00m\u001b[33mTest Accuracy: \u001b[39;49;00m\u001b[33m{\u001b[39;49;00mtest_accuracy.result() * \u001b[34m100\u001b[39;49;00m\u001b[33m}\u001b[39;49;00m\u001b[33m\"\u001b[39;49;00m\n",
      "        )\n",
      "\n",
      "    \u001b[37m# Save the model\u001b[39;49;00m\n",
      "    \u001b[37m# A version number is needed for the serving container\u001b[39;49;00m\n",
      "    \u001b[37m# to load the model\u001b[39;49;00m\n",
      "    version = \u001b[33m\"\u001b[39;49;00m\u001b[33m00000000\u001b[39;49;00m\u001b[33m\"\u001b[39;49;00m\n",
      "    ckpt_dir = os.path.join(args.model_dir, version)\n",
      "    \u001b[34mif\u001b[39;49;00m \u001b[35mnot\u001b[39;49;00m os.path.exists(ckpt_dir):\n",
      "        os.makedirs(ckpt_dir)\n",
      "    model.save(ckpt_dir)\n",
      "    \u001b[34mreturn\u001b[39;49;00m\n",
      "\n",
      "\n",
      "\u001b[34mdef\u001b[39;49;00m \u001b[32mparse_args\u001b[39;49;00m():\n",
      "    parser = argparse.ArgumentParser()\n",
      "\n",
      "    parser.add_argument(\u001b[33m\"\u001b[39;49;00m\u001b[33m--batch-size\u001b[39;49;00m\u001b[33m\"\u001b[39;49;00m, \u001b[36mtype\u001b[39;49;00m=\u001b[36mint\u001b[39;49;00m, default=\u001b[34m32\u001b[39;49;00m)\n",
      "    parser.add_argument(\u001b[33m\"\u001b[39;49;00m\u001b[33m--epochs\u001b[39;49;00m\u001b[33m\"\u001b[39;49;00m, \u001b[36mtype\u001b[39;49;00m=\u001b[36mint\u001b[39;49;00m, default=\u001b[34m1\u001b[39;49;00m)\n",
      "    parser.add_argument(\u001b[33m\"\u001b[39;49;00m\u001b[33m--learning-rate\u001b[39;49;00m\u001b[33m\"\u001b[39;49;00m, \u001b[36mtype\u001b[39;49;00m=\u001b[36mfloat\u001b[39;49;00m, default=\u001b[34m1e-3\u001b[39;49;00m)\n",
      "    parser.add_argument(\u001b[33m\"\u001b[39;49;00m\u001b[33m--beta_1\u001b[39;49;00m\u001b[33m\"\u001b[39;49;00m, \u001b[36mtype\u001b[39;49;00m=\u001b[36mfloat\u001b[39;49;00m, default=\u001b[34m0.9\u001b[39;49;00m)\n",
      "    parser.add_argument(\u001b[33m\"\u001b[39;49;00m\u001b[33m--beta_2\u001b[39;49;00m\u001b[33m\"\u001b[39;49;00m, \u001b[36mtype\u001b[39;49;00m=\u001b[36mfloat\u001b[39;49;00m, default=\u001b[34m0.999\u001b[39;49;00m)\n",
      "\n",
      "    \u001b[37m# Environment variables given by the training image\u001b[39;49;00m\n",
      "    parser.add_argument(\u001b[33m\"\u001b[39;49;00m\u001b[33m--model-dir\u001b[39;49;00m\u001b[33m\"\u001b[39;49;00m, \u001b[36mtype\u001b[39;49;00m=\u001b[36mstr\u001b[39;49;00m, default=os.environ[\u001b[33m\"\u001b[39;49;00m\u001b[33mSM_MODEL_DIR\u001b[39;49;00m\u001b[33m\"\u001b[39;49;00m])\n",
      "    parser.add_argument(\u001b[33m\"\u001b[39;49;00m\u001b[33m--train\u001b[39;49;00m\u001b[33m\"\u001b[39;49;00m, \u001b[36mtype\u001b[39;49;00m=\u001b[36mstr\u001b[39;49;00m, default=os.environ[\u001b[33m\"\u001b[39;49;00m\u001b[33mSM_CHANNEL_TRAINING\u001b[39;49;00m\u001b[33m\"\u001b[39;49;00m])\n",
      "    parser.add_argument(\u001b[33m\"\u001b[39;49;00m\u001b[33m--test\u001b[39;49;00m\u001b[33m\"\u001b[39;49;00m, \u001b[36mtype\u001b[39;49;00m=\u001b[36mstr\u001b[39;49;00m, default=os.environ[\u001b[33m\"\u001b[39;49;00m\u001b[33mSM_CHANNEL_TESTING\u001b[39;49;00m\u001b[33m\"\u001b[39;49;00m])\n",
      "\n",
      "    parser.add_argument(\u001b[33m\"\u001b[39;49;00m\u001b[33m--current-host\u001b[39;49;00m\u001b[33m\"\u001b[39;49;00m, \u001b[36mtype\u001b[39;49;00m=\u001b[36mstr\u001b[39;49;00m, default=os.environ[\u001b[33m\"\u001b[39;49;00m\u001b[33mSM_CURRENT_HOST\u001b[39;49;00m\u001b[33m\"\u001b[39;49;00m])\n",
      "    parser.add_argument(\u001b[33m\"\u001b[39;49;00m\u001b[33m--hosts\u001b[39;49;00m\u001b[33m\"\u001b[39;49;00m, \u001b[36mtype\u001b[39;49;00m=\u001b[36mlist\u001b[39;49;00m, default=json.loads(os.environ[\u001b[33m\"\u001b[39;49;00m\u001b[33mSM_HOSTS\u001b[39;49;00m\u001b[33m\"\u001b[39;49;00m]))\n",
      "\n",
      "    \u001b[34mreturn\u001b[39;49;00m parser.parse_args()\n",
      "\n",
      "\n",
      "\u001b[34mif\u001b[39;49;00m \u001b[31m__name__\u001b[39;49;00m == \u001b[33m\"\u001b[39;49;00m\u001b[33m__main__\u001b[39;49;00m\u001b[33m\"\u001b[39;49;00m:\n",
      "    args = parse_args()\n",
      "    train(args)\n"
     ]
    }
   ],
   "source": [
    "!pygmentize 'code/train.py'"
   ]
  },
  {
   "cell_type": "code",
   "execution_count": 8,
   "id": "62a4397a",
   "metadata": {},
   "outputs": [],
   "source": [
    "instance_type = \"ml.c4.xlarge\"\n",
    "\n",
    "est = TensorFlow(\n",
    "    entry_point=\"train.py\",\n",
    "    source_dir=\"code\",  # directory of your training script\n",
    "    role=role,\n",
    "    framework_version=\"2.3.1\",\n",
    "    model_dir=False,  # don't pass --model_dir to your training script\n",
    "    py_version=\"py37\",\n",
    "    instance_type=instance_type,\n",
    "    instance_count=1,\n",
    "    volume_size=5,\n",
    "    output_path=output_path,\n",
    "    hyperparameters={\n",
    "        \"batch-size\": 512,\n",
    "        \"epochs\": 1,\n",
    "        \"learning-rate\": 1e-3,\n",
    "        \"beta_1\": 0.9,\n",
    "        \"beta_2\": 0.999,\n",
    "    },\n",
    ")"
   ]
  },
  {
   "cell_type": "markdown",
   "id": "8cf44ebe",
   "metadata": {},
   "source": [
    "### Training"
   ]
  },
  {
   "cell_type": "code",
   "execution_count": 9,
   "id": "c85543fb",
   "metadata": {},
   "outputs": [
    {
     "name": "stdout",
     "output_type": "stream",
     "text": [
      "2022-04-25 13:47:41 Starting - Starting the training job...\n",
      "2022-04-25 13:48:06 Starting - Preparing the instances for trainingProfilerReport-1650894460: InProgress\n",
      "......\n",
      "2022-04-25 13:49:10 Downloading - Downloading input data...\n",
      "2022-04-25 13:49:26 Training - Downloading the training image.....\u001b[34m2022-04-25 13:50:24.721553: W tensorflow/core/profiler/internal/smprofiler_timeline.cc:460] Initializing the SageMaker Profiler.\u001b[0m\n",
      "\u001b[34m2022-04-25 13:50:24.731055: W tensorflow/core/profiler/internal/smprofiler_timeline.cc:105] SageMaker Profiler is not enabled. The timeline writer thread will not be started, future recorded events will be dropped.\u001b[0m\n",
      "\u001b[34m2022-04-25 13:50:25.090232: W tensorflow/core/profiler/internal/smprofiler_timeline.cc:460] Initializing the SageMaker Profiler.\u001b[0m\n",
      "\n",
      "2022-04-25 13:50:26 Training - Training image download completed. Training in progress.\u001b[34m2022-04-25 13:50:28,843 sagemaker-training-toolkit INFO     Imported framework sagemaker_tensorflow_container.training\u001b[0m\n",
      "\u001b[34m2022-04-25 13:50:28,850 sagemaker-training-toolkit INFO     No GPUs detected (normal if no gpus installed)\u001b[0m\n",
      "\u001b[34m2022-04-25 13:50:29,276 sagemaker-training-toolkit INFO     Installing dependencies from requirements.txt:\u001b[0m\n",
      "\u001b[34m/usr/local/bin/python3.7 -m pip install -r requirements.txt\u001b[0m\n",
      "\u001b[34mCollecting numpy==1.17.4\n",
      "  Downloading numpy-1.17.4-cp37-cp37m-manylinux1_x86_64.whl (20.0 MB)\u001b[0m\n",
      "\u001b[34mInstalling collected packages: numpy\n",
      "  Attempting uninstall: numpy\n",
      "    Found existing installation: numpy 1.18.5\n",
      "    Uninstalling numpy-1.18.5:\n",
      "      Successfully uninstalled numpy-1.18.5\u001b[0m\n",
      "\u001b[34mSuccessfully installed numpy-1.17.4\u001b[0m\n",
      "\u001b[34mWARNING: You are using pip version 21.0.1; however, version 22.0.4 is available.\u001b[0m\n",
      "\u001b[34mYou should consider upgrading via the '/usr/local/bin/python3.7 -m pip install --upgrade pip' command.\u001b[0m\n",
      "\u001b[34m2022-04-25 13:50:34,728 sagemaker-training-toolkit INFO     No GPUs detected (normal if no gpus installed)\u001b[0m\n",
      "\u001b[34m2022-04-25 13:50:34,753 sagemaker-training-toolkit INFO     No GPUs detected (normal if no gpus installed)\u001b[0m\n",
      "\u001b[34m2022-04-25 13:50:34,772 sagemaker-training-toolkit INFO     No GPUs detected (normal if no gpus installed)\u001b[0m\n",
      "\u001b[34m2022-04-25 13:50:34,788 sagemaker-training-toolkit INFO     Invoking user script\u001b[0m\n",
      "\u001b[34mTraining Env:\u001b[0m\n",
      "\u001b[34m{\n",
      "    \"additional_framework_parameters\": {},\n",
      "    \"channel_input_dirs\": {\n",
      "        \"testing\": \"/opt/ml/input/data/testing\",\n",
      "        \"training\": \"/opt/ml/input/data/training\"\n",
      "    },\n",
      "    \"current_host\": \"algo-1\",\n",
      "    \"framework_module\": \"sagemaker_tensorflow_container.training:main\",\n",
      "    \"hosts\": [\n",
      "        \"algo-1\"\n",
      "    ],\n",
      "    \"hyperparameters\": {\n",
      "        \"batch-size\": 512,\n",
      "        \"beta_1\": 0.9,\n",
      "        \"beta_2\": 0.999,\n",
      "        \"epochs\": 1,\n",
      "        \"learning-rate\": 0.001\n",
      "    },\n",
      "    \"input_config_dir\": \"/opt/ml/input/config\",\n",
      "    \"input_data_config\": {\n",
      "        \"testing\": {\n",
      "            \"TrainingInputMode\": \"File\",\n",
      "            \"S3DistributionType\": \"FullyReplicated\",\n",
      "            \"RecordWrapperType\": \"None\"\n",
      "        },\n",
      "        \"training\": {\n",
      "            \"TrainingInputMode\": \"File\",\n",
      "            \"S3DistributionType\": \"FullyReplicated\",\n",
      "            \"RecordWrapperType\": \"None\"\n",
      "        }\n",
      "    },\n",
      "    \"input_dir\": \"/opt/ml/input\",\n",
      "    \"is_master\": true,\n",
      "    \"job_name\": \"tensorflow-training-2022-04-25-13-47-40-595\",\n",
      "    \"log_level\": 20,\n",
      "    \"master_hostname\": \"algo-1\",\n",
      "    \"model_dir\": \"/opt/ml/model\",\n",
      "    \"module_dir\": \"s3://sagemaker-eu-central-1-901214976877/tensorflow-training-2022-04-25-13-47-40-595/source/sourcedir.tar.gz\",\n",
      "    \"module_name\": \"train\",\n",
      "    \"network_interface_name\": \"eth0\",\n",
      "    \"num_cpus\": 4,\n",
      "    \"num_gpus\": 0,\n",
      "    \"output_data_dir\": \"/opt/ml/output/data\",\n",
      "    \"output_dir\": \"/opt/ml/output\",\n",
      "    \"output_intermediate_dir\": \"/opt/ml/output/intermediate\",\n",
      "    \"resource_config\": {\n",
      "        \"current_host\": \"algo-1\",\n",
      "        \"current_instance_type\": \"ml.c4.xlarge\",\n",
      "        \"current_group_name\": \"homogeneousCluster\",\n",
      "        \"hosts\": [\n",
      "            \"algo-1\"\n",
      "        ],\n",
      "        \"instance_groups\": [\n",
      "            {\n",
      "                \"instance_group_name\": \"homogeneousCluster\",\n",
      "                \"instance_type\": \"ml.c4.xlarge\",\n",
      "                \"hosts\": [\n",
      "                    \"algo-1\"\n",
      "                ]\n",
      "            }\n",
      "        ],\n",
      "        \"network_interface_name\": \"eth0\"\n",
      "    },\n",
      "    \"user_entry_point\": \"train.py\"\u001b[0m\n",
      "\u001b[34m}\u001b[0m\n",
      "\u001b[34mEnvironment variables:\u001b[0m\n",
      "\u001b[34mSM_HOSTS=[\"algo-1\"]\u001b[0m\n",
      "\u001b[34mSM_NETWORK_INTERFACE_NAME=eth0\u001b[0m\n",
      "\u001b[34mSM_HPS={\"batch-size\":512,\"beta_1\":0.9,\"beta_2\":0.999,\"epochs\":1,\"learning-rate\":0.001}\u001b[0m\n",
      "\u001b[34mSM_USER_ENTRY_POINT=train.py\u001b[0m\n",
      "\u001b[34mSM_FRAMEWORK_PARAMS={}\u001b[0m\n",
      "\u001b[34mSM_RESOURCE_CONFIG={\"current_group_name\":\"homogeneousCluster\",\"current_host\":\"algo-1\",\"current_instance_type\":\"ml.c4.xlarge\",\"hosts\":[\"algo-1\"],\"instance_groups\":[{\"hosts\":[\"algo-1\"],\"instance_group_name\":\"homogeneousCluster\",\"instance_type\":\"ml.c4.xlarge\"}],\"network_interface_name\":\"eth0\"}\u001b[0m\n",
      "\u001b[34mSM_INPUT_DATA_CONFIG={\"testing\":{\"RecordWrapperType\":\"None\",\"S3DistributionType\":\"FullyReplicated\",\"TrainingInputMode\":\"File\"},\"training\":{\"RecordWrapperType\":\"None\",\"S3DistributionType\":\"FullyReplicated\",\"TrainingInputMode\":\"File\"}}\u001b[0m\n",
      "\u001b[34mSM_OUTPUT_DATA_DIR=/opt/ml/output/data\u001b[0m\n",
      "\u001b[34mSM_CHANNELS=[\"testing\",\"training\"]\u001b[0m\n",
      "\u001b[34mSM_CURRENT_HOST=algo-1\u001b[0m\n",
      "\u001b[34mSM_MODULE_NAME=train\u001b[0m\n",
      "\u001b[34mSM_LOG_LEVEL=20\u001b[0m\n",
      "\u001b[34mSM_FRAMEWORK_MODULE=sagemaker_tensorflow_container.training:main\u001b[0m\n",
      "\u001b[34mSM_INPUT_DIR=/opt/ml/input\u001b[0m\n",
      "\u001b[34mSM_INPUT_CONFIG_DIR=/opt/ml/input/config\u001b[0m\n",
      "\u001b[34mSM_OUTPUT_DIR=/opt/ml/output\u001b[0m\n",
      "\u001b[34mSM_NUM_CPUS=4\u001b[0m\n",
      "\u001b[34mSM_NUM_GPUS=0\u001b[0m\n",
      "\u001b[34mSM_MODEL_DIR=/opt/ml/model\u001b[0m\n",
      "\u001b[34mSM_MODULE_DIR=s3://sagemaker-eu-central-1-901214976877/tensorflow-training-2022-04-25-13-47-40-595/source/sourcedir.tar.gz\u001b[0m\n",
      "\u001b[34mSM_TRAINING_ENV={\"additional_framework_parameters\":{},\"channel_input_dirs\":{\"testing\":\"/opt/ml/input/data/testing\",\"training\":\"/opt/ml/input/data/training\"},\"current_host\":\"algo-1\",\"framework_module\":\"sagemaker_tensorflow_container.training:main\",\"hosts\":[\"algo-1\"],\"hyperparameters\":{\"batch-size\":512,\"beta_1\":0.9,\"beta_2\":0.999,\"epochs\":1,\"learning-rate\":0.001},\"input_config_dir\":\"/opt/ml/input/config\",\"input_data_config\":{\"testing\":{\"RecordWrapperType\":\"None\",\"S3DistributionType\":\"FullyReplicated\",\"TrainingInputMode\":\"File\"},\"training\":{\"RecordWrapperType\":\"None\",\"S3DistributionType\":\"FullyReplicated\",\"TrainingInputMode\":\"File\"}},\"input_dir\":\"/opt/ml/input\",\"is_master\":true,\"job_name\":\"tensorflow-training-2022-04-25-13-47-40-595\",\"log_level\":20,\"master_hostname\":\"algo-1\",\"model_dir\":\"/opt/ml/model\",\"module_dir\":\"s3://sagemaker-eu-central-1-901214976877/tensorflow-training-2022-04-25-13-47-40-595/source/sourcedir.tar.gz\",\"module_name\":\"train\",\"network_interface_name\":\"eth0\",\"num_cpus\":4,\"num_gpus\":0,\"output_data_dir\":\"/opt/ml/output/data\",\"output_dir\":\"/opt/ml/output\",\"output_intermediate_dir\":\"/opt/ml/output/intermediate\",\"resource_config\":{\"current_group_name\":\"homogeneousCluster\",\"current_host\":\"algo-1\",\"current_instance_type\":\"ml.c4.xlarge\",\"hosts\":[\"algo-1\"],\"instance_groups\":[{\"hosts\":[\"algo-1\"],\"instance_group_name\":\"homogeneousCluster\",\"instance_type\":\"ml.c4.xlarge\"}],\"network_interface_name\":\"eth0\"},\"user_entry_point\":\"train.py\"}\u001b[0m\n",
      "\u001b[34mSM_USER_ARGS=[\"--batch-size\",\"512\",\"--beta_1\",\"0.9\",\"--beta_2\",\"0.999\",\"--epochs\",\"1\",\"--learning-rate\",\"0.001\"]\u001b[0m\n",
      "\u001b[34mSM_OUTPUT_INTERMEDIATE_DIR=/opt/ml/output/intermediate\u001b[0m\n",
      "\u001b[34mSM_CHANNEL_TESTING=/opt/ml/input/data/testing\u001b[0m\n",
      "\u001b[34mSM_CHANNEL_TRAINING=/opt/ml/input/data/training\u001b[0m\n",
      "\u001b[34mSM_HP_BATCH-SIZE=512\u001b[0m\n",
      "\u001b[34mSM_HP_BETA_1=0.9\u001b[0m\n",
      "\u001b[34mSM_HP_BETA_2=0.999\u001b[0m\n",
      "\u001b[34mSM_HP_EPOCHS=1\u001b[0m\n",
      "\u001b[34mSM_HP_LEARNING-RATE=0.001\u001b[0m\n",
      "\u001b[34mPYTHONPATH=/opt/ml/code:/usr/local/bin:/usr/local/lib/python37.zip:/usr/local/lib/python3.7:/usr/local/lib/python3.7/lib-dynload:/usr/local/lib/python3.7/site-packages\u001b[0m\n",
      "\u001b[34mInvoking script with the following command:\u001b[0m\n",
      "\u001b[34m/usr/local/bin/python3.7 train.py --batch-size 512 --beta_1 0.9 --beta_2 0.999 --epochs 1 --learning-rate 0.001\u001b[0m\n",
      "\u001b[34mTraining starts ...\u001b[0m\n",
      "\u001b[34m[2022-04-25 13:50:38.859 ip-10-0-200-137.eu-central-1.compute.internal:31 INFO utils.py:27] RULE_JOB_STOP_SIGNAL_FILENAME: None\u001b[0m\n",
      "\u001b[34m[2022-04-25 13:50:39.095 ip-10-0-200-137.eu-central-1.compute.internal:31 INFO profiler_config_parser.py:102] User has disabled profiler.\u001b[0m\n",
      "\u001b[34m[2022-04-25 13:50:39.096 ip-10-0-200-137.eu-central-1.compute.internal:31 INFO json_config.py:91] Creating hook from json_config at /opt/ml/input/config/debughookconfig.json.\u001b[0m\n",
      "\u001b[34m[2022-04-25 13:50:39.096 ip-10-0-200-137.eu-central-1.compute.internal:31 INFO hook.py:199] tensorboard_dir has not been set for the hook. SMDebug will not be exporting tensorboard summaries.\u001b[0m\n",
      "\u001b[34m[2022-04-25 13:50:39.097 ip-10-0-200-137.eu-central-1.compute.internal:31 INFO hook.py:253] Saving to /opt/ml/output/tensors\u001b[0m\n",
      "\u001b[34m[2022-04-25 13:50:39.097 ip-10-0-200-137.eu-central-1.compute.internal:31 INFO state_store.py:75] The checkpoint config file /opt/ml/input/config/checkpointconfig.json does not exist.\u001b[0m\n",
      "\u001b[34m[2022-04-25 13:50:39.098 ip-10-0-200-137.eu-central-1.compute.internal:31 INFO hook.py:413] Monitoring the collections: metrics, losses, sm_metrics\u001b[0m\n",
      "\n",
      "2022-04-25 13:51:07 Uploading - Uploading generated training model\u001b[34mEpoch 1, Loss: 0.273245245218277, Accuracy: 91.48500061035156, Test Loss: 0.10719378292560577, Test Accuracy: 96.94999694824219\u001b[0m\n",
      "\u001b[34m2022-04-25 13:50:35.182744: W tensorflow/core/profiler/internal/smprofiler_timeline.cc:460] Initializing the SageMaker Profiler.\u001b[0m\n",
      "\u001b[34m2022-04-25 13:50:35.182904: W tensorflow/core/profiler/internal/smprofiler_timeline.cc:105] SageMaker Profiler is not enabled. The timeline writer thread will not be started, future recorded events will be dropped.\u001b[0m\n",
      "\u001b[34m2022-04-25 13:50:35.213496: W tensorflow/core/profiler/internal/smprofiler_timeline.cc:460] Initializing the SageMaker Profiler.\u001b[0m\n",
      "\u001b[34mWARNING:tensorflow:From /usr/local/lib/python3.7/site-packages/tensorflow/python/training/tracking/tracking.py:111: Model.state_updates (from tensorflow.python.keras.engine.training) is deprecated and will be removed in a future version.\u001b[0m\n",
      "\u001b[34mInstructions for updating:\u001b[0m\n",
      "\u001b[34mThis property should not be used in TensorFlow 2.0, as updates are applied automatically.\u001b[0m\n",
      "\u001b[34mWARNING:tensorflow:From /usr/local/lib/python3.7/site-packages/tensorflow/python/training/tracking/tracking.py:111: Model.state_updates (from tensorflow.python.keras.engine.training) is deprecated and will be removed in a future version.\u001b[0m\n",
      "\u001b[34mInstructions for updating:\u001b[0m\n",
      "\u001b[34mThis property should not be used in TensorFlow 2.0, as updates are applied automatically.\u001b[0m\n",
      "\u001b[34mWARNING:tensorflow:From /usr/local/lib/python3.7/site-packages/tensorflow/python/training/tracking/tracking.py:111: Layer.updates (from tensorflow.python.keras.engine.base_layer) is deprecated and will be removed in a future version.\u001b[0m\n",
      "\u001b[34mInstructions for updating:\u001b[0m\n",
      "\u001b[34mThis property should not be used in TensorFlow 2.0, as updates are applied automatically.\u001b[0m\n",
      "\u001b[34mWARNING:tensorflow:From /usr/local/lib/python3.7/site-packages/tensorflow/python/training/tracking/tracking.py:111: Layer.updates (from tensorflow.python.keras.engine.base_layer) is deprecated and will be removed in a future version.\u001b[0m\n",
      "\u001b[34mInstructions for updating:\u001b[0m\n",
      "\u001b[34mThis property should not be used in TensorFlow 2.0, as updates are applied automatically.\u001b[0m\n",
      "\u001b[34m2022-04-25 13:50:58.548304: W tensorflow/python/util/util.cc:348] Sets are not currently considered sequences, but this may change in the future, so consider avoiding using them.\u001b[0m\n",
      "\u001b[34mINFO:tensorflow:Assets written to: /opt/ml/model/00000000/assets\u001b[0m\n",
      "\u001b[34mINFO:tensorflow:Assets written to: /opt/ml/model/00000000/assets\u001b[0m\n",
      "\u001b[34m2022-04-25 13:50:59,221 sagemaker-training-toolkit INFO     Reporting training SUCCESS\u001b[0m\n",
      "\n",
      "2022-04-25 13:51:27 Completed - Training job completed\n",
      "Training seconds: 128\n",
      "Billable seconds: 128\n"
     ]
    }
   ],
   "source": [
    "est.fit(inputs=channels)"
   ]
  },
  {
   "cell_type": "code",
   "execution_count": 10,
   "id": "d746ac33",
   "metadata": {},
   "outputs": [
    {
     "name": "stdout",
     "output_type": "stream",
     "text": [
      "Model artifact saved at:\n",
      " s3://sagemaker-eu-central-1-901214976877/tensorflow/mnist/tensorflow-training-2022-04-25-13-47-40-595/output/model.tar.gz\n"
     ]
    }
   ],
   "source": [
    "tf_mnist_model_data = est.model_data\n",
    "print(\"Model artifact saved at:\\n\", tf_mnist_model_data)"
   ]
  },
  {
   "cell_type": "markdown",
   "id": "8e896c01",
   "metadata": {},
   "source": [
    "# AIShield Model Vulnerability Check"
   ]
  },
  {
   "cell_type": "markdown",
   "id": "8f33d179",
   "metadata": {},
   "source": [
    "### 1. Prepare Data , Model and Label"
   ]
  },
  {
   "attachments": {
    "image.png": {
     "image/png": "[encoded data removed]"
    }
   },
   "cell_type": "markdown",
   "id": "86a26291",
   "metadata": {},
   "source": [
    "> Expected Data Format - all image files in a folder\n",
    "\n",
    "![image.png](attachment:image.png)"
   ]
  },
  {
   "attachments": {
    "image.png": {
     "image/png": "[encoded data removed]"
    }
   },
   "cell_type": "markdown",
   "id": "15b10c44",
   "metadata": {},
   "source": [
    "> Expected Label Format - csv file mapping filename to label\n",
    "\n",
    "![image.png](attachment:image.png)"
   ]
  },
  {
   "cell_type": "markdown",
   "id": "342b2924",
   "metadata": {},
   "source": [
    "##### Download the model  to local"
   ]
  },
  {
   "cell_type": "code",
   "execution_count": 11,
   "id": "cc4d666c",
   "metadata": {},
   "outputs": [],
   "source": [
    "s3 = boto3.client(\"s3\")\n",
    "bucket = sess.default_bucket()"
   ]
  },
  {
   "cell_type": "code",
   "execution_count": 12,
   "id": "f4e47934",
   "metadata": {},
   "outputs": [],
   "source": [
    "model_key = \"tensorflow/mnist/tensorflow-training-2022-04-25-06-28-59-613/output/model.tar.gz\"\n",
    "data_key = \"mnist/t10k-images-idx3-ubyte.gz\"\n",
    "label_key = \"mnist/t10k-labels-idx1-ubyte.gz\""
   ]
  },
  {
   "cell_type": "code",
   "execution_count": 13,
   "id": "93e6f29f",
   "metadata": {},
   "outputs": [],
   "source": [
    "# model\n",
    "s3.download_file(bucket, model_key, \"model.tar.gz\")\n",
    "# data\n",
    "s3.download_file(bucket, data_key, \"t10k-images-idx3-ubyte.gz\")\n",
    "# label\n",
    "s3.download_file(bucket, label_key, \"t10k-labels-idx1-ubyte.gz\")"
   ]
  },
  {
   "cell_type": "code",
   "execution_count": 14,
   "id": "1bac1131",
   "metadata": {},
   "outputs": [],
   "source": [
    "shutil.unpack_archive('model.tar.gz', 'model')"
   ]
  },
  {
   "cell_type": "code",
   "execution_count": 15,
   "id": "ed3c7309",
   "metadata": {},
   "outputs": [],
   "source": [
    "data_dir=\"/tmp/data\"\n",
    "images_file = \"t10k-images-idx3-ubyte.gz\"\n",
    "labels_file = \"t10k-labels-idx1-ubyte.gz\"\n",
    "\n",
    "with gzip.open(os.path.join(data_dir, images_file), \"rb\") as f:\n",
    "    images = np.frombuffer(f.read(), np.uint8, offset=16).reshape(-1, 28, 28)\n",
    "\n",
    "with gzip.open(os.path.join(data_dir, labels_file), \"rb\") as f:\n",
    "    labels = np.frombuffer(f.read(), np.uint8, offset=8)"
   ]
  },
  {
   "cell_type": "code",
   "execution_count": 21,
   "id": "fe3d0fbd",
   "metadata": {},
   "outputs": [
    {
     "data": {
      "image/png": "[encoded data removed]",
      "text/plain": [
       "<Figure size 432x432 with 25 Axes>"
      ]
     },
     "metadata": {
      "needs_background": "light"
     },
     "output_type": "display_data"
    }
   ],
   "source": [
    "'''\n",
    "Description: Visualize few random data sample\n",
    "'''\n",
    "rows=5\n",
    "\n",
    "random_indices=random.sample(range(images.shape[0]),rows*rows)\n",
    "sample_images=images[random_indices,:]\n",
    "sample_images = np.expand_dims(sample_images, axis=-1) \n",
    "sample_labels=labels[random_indices]\n",
    "\n",
    "fig,axs=plt.subplots(nrows=rows,ncols=rows,figsize=(6,6),sharex=True,sharey=True)\n",
    "for i in range(rows*rows):\n",
    "    subplot_row=i // rows\n",
    "    subplot_col=i % rows\n",
    "    axs[subplot_row,subplot_col].imshow(sample_images[i,:])\n",
    "    axs[subplot_row,subplot_col].set_title(\"Actual Label. %d\" % sample_labels[i])\n",
    "plt.tight_layout()"
   ]
  },
  {
   "cell_type": "markdown",
   "id": "cf5eb0d1",
   "metadata": {},
   "source": [
    "#### Save data, label and model in zip "
   ]
  },
  {
   "cell_type": "code",
   "execution_count": 17,
   "id": "d474113f",
   "metadata": {},
   "outputs": [
    {
     "name": "stdout",
     "output_type": "stream",
     "text": [
      "CPU times: user 1.93 s, sys: 1.28 s, total: 3.21 s\n",
      "Wall time: 2min 27s\n"
     ]
    }
   ],
   "source": [
    "%%time\n",
    "\"\"\"\n",
    "Description: Save data and label\n",
    "\"\"\"\n",
    "label=pd.DataFrame()\n",
    "img_name = []\n",
    "img_label = [] \n",
    "\n",
    "if not os.path.isdir(\"data\"):\n",
    "    os. makedirs(\"data\")\n",
    "    \n",
    "for i in range(images.shape[0]):\n",
    "    cv2.imwrite(os.path.join(\"data\",str(i)+\".jpg\") ,images[i]*255.0) # don't use plt.imread otheriwse while loading the saved images , and passing to model there is accuarcy drop \n",
    "    img_name.append(str(i)+\".jpg\")\n",
    "    img_label.append(labels[i])\n",
    "label['image'] = img_name\n",
    "label[\"label\"] = np.array(img_label)\n",
    "\n",
    "#write orig_label dataframe\n",
    "label.to_csv(os.path.join(\"label.csv\"),index=False)"
   ]
  },
  {
   "cell_type": "code",
   "execution_count": 18,
   "id": "38772e3c",
   "metadata": {},
   "outputs": [],
   "source": [
    "\"\"\"\n",
    "Description: Zip data\n",
    "\"\"\"\n",
    "def zipdir(path, ziph):\n",
    "    for root, dirs, files in os.walk(path):\n",
    "        for file in files:\n",
    "            ziph.write(os.path.join(root, file), \n",
    "                       os.path.relpath(os.path.join(root, file), \n",
    "                                       os.path.join(path, '..')))\n",
    "      \n",
    "zipf = zipfile.ZipFile('data.zip', 'w', zipfile.ZIP_DEFLATED)\n",
    "zipdir('data', zipf)\n",
    "zipf.close()"
   ]
  },
  {
   "cell_type": "code",
   "execution_count": 19,
   "id": "9da7c230",
   "metadata": {},
   "outputs": [],
   "source": [
    "\"\"\"\n",
    "Description: Zip label\n",
    "\"\"\"\n",
    "zipfile.ZipFile('label.zip', mode='w').write(\"label.csv\")"
   ]
  },
  {
   "cell_type": "code",
   "execution_count": 20,
   "id": "00c0b526",
   "metadata": {},
   "outputs": [
    {
     "data": {
      "text/plain": [
       "'/root/mnist/model.zip'"
      ]
     },
     "execution_count": 20,
     "metadata": {},
     "output_type": "execute_result"
    }
   ],
   "source": [
    "\"\"\"\n",
    "Description: Zip model\n",
    "\"\"\"\n",
    "shutil.make_archive(base_name='model', format='zip', root_dir='model')"
   ]
  },
  {
   "cell_type": "markdown",
   "id": "e2c8adab",
   "metadata": {},
   "source": [
    "### 2. AIShield API Call¶"
   ]
  },
  {
   "cell_type": "code",
   "execution_count": 22,
   "id": "75026fb0",
   "metadata": {},
   "outputs": [],
   "source": [
    "\"\"\"\n",
    "Description: AIShield API URL and subscription key\n",
    "\"\"\" \n",
    "url=\"https://apim-prod-ais-01.azure-api.net/trial/ic/ais/ImageClassification/VulnerabiltyReport\"\n",
    "headers={'Cache-Control': 'no-cache',\n",
    "'Ocp-Apim-Subscription-Key': \"5df172bfa36b444dbb4984c8b6cf302f\"\n",
    "}"
   ]
  },
  {
   "cell_type": "code",
   "execution_count": 23,
   "id": "d8d0fbf8",
   "metadata": {},
   "outputs": [],
   "source": [
    "\"\"\"\n",
    "Description: Payload for AIShield VulnerabilityReport api call\n",
    "\"\"\"\n",
    "payload={}\n",
    "payload['input_dimensions']=str((28,28,1))\n",
    "payload['number_of_classes']=str(10)\n",
    "payload['attack_type']=\"Blackbox\"\n",
    "payload['number_of_attack_queries']=50000\n",
    "payload['model_framework']='Tensorflow'\n",
    "payload['vulnerability_threshold']=\"0\"\n",
    "payload['normalize_data']=\"yes\"\n",
    "payload['defense_bestonly']=\"no\"\n",
    "payload['encryption_strategy']=0"
   ]
  },
  {
   "cell_type": "code",
   "execution_count": 24,
   "id": "6537094e",
   "metadata": {},
   "outputs": [],
   "source": [
    "\"\"\"\n",
    "Description: Files path\n",
    "\"\"\"\n",
    "cur_dir=os.getcwd()\n",
    "data_path=os.path.join(cur_dir,'data.zip') #full path of data zip\n",
    "label_path=os.path.join(cur_dir,'label.zip') #full path of label zip\n",
    "model_path=os.path.join(cur_dir,'model.zip') #full path of model zip"
   ]
  },
  {
   "cell_type": "code",
   "execution_count": 25,
   "id": "7f7e0bc1",
   "metadata": {},
   "outputs": [],
   "source": [
    "\"\"\"\n",
    "Description: Files for AIShield VulnerabilityReport api call\n",
    "\"\"\"\n",
    "model_name=os.path.split(model_path)[1] #model file name\n",
    "data_name=os.path.split(data_path)[1] #data file name\n",
    "label_name=os.path.split(label_path)[1] #label file name\n",
    "\n",
    "files=[\n",
    "  ('data_zip',(data_name,open(data_path,'rb'),'application/x-zip-compressed')),\n",
    "  ('model_zip',(model_name,open(model_path,'rb'),'application/x-zip-compressed')),\n",
    "  ('label_zip',(label_name,open(label_path,'rb'),'application/x-zip-compressed'))\n",
    "  ]"
   ]
  },
  {
   "cell_type": "code",
   "execution_count": 26,
   "id": "b1f2e8be",
   "metadata": {},
   "outputs": [
    {
     "name": "stdout",
     "output_type": "stream",
     "text": [
      "* attack_type : Blackbox\n",
      "* defense_bestonly : no\n",
      "* encryption_strategy : 0\n",
      "* input_dimensions : (28, 28, 1)\n",
      "* job_id : gAAAAABiZrEpe5p30jQ8ZvhHvsWDND5dtGTFmy9qJu397GssvPV99bk4YMZ4NyQTAfqYe_09Z9KkYTlfZ24432k_0-RYkYOeWQ==\n",
      "* model_framework : Tensorflow\n",
      "* monitor_link : FEATURE NOT AVAILABLE\n",
      "* normalize_data : yes\n",
      "* number_of_attack_queries : 50000\n",
      "* number_of_classes : 10\n",
      "* vulnerability_threshold : 0.0\n"
     ]
    }
   ],
   "source": [
    "\"\"\"\n",
    "Description: Hit AIShield VulnerabilityReport api\n",
    "\"\"\"\n",
    "new_request = requests.request(method=\"POST\", url=url, params=payload, files=files,headers=headers)\n",
    "new_request=json.loads(new_request.text)\n",
    "for k, v in new_request.items():\n",
    "    print(\"* {} : {}\".format(k,v))"
   ]
  },
  {
   "cell_type": "code",
   "execution_count": 27,
   "id": "8b793269",
   "metadata": {},
   "outputs": [
    {
     "name": "stdout",
     "output_type": "stream",
     "text": [
      "Job id : gAAAAABiZrEpe5p30jQ8ZvhHvsWDND5dtGTFmy9qJu397GssvPV99bk4YMZ4NyQTAfqYe_09Z9KkYTlfZ24432k_0-RYkYOeWQ==\n"
     ]
    }
   ],
   "source": [
    "\"\"\"\n",
    "Description: Get job id from api response\n",
    "\"\"\"\n",
    "job_id=new_request['job_id']\n",
    "print(f\"Job id : {job_id}\")"
   ]
  },
  {
   "cell_type": "code",
   "execution_count": 28,
   "id": "4752a767",
   "metadata": {},
   "outputs": [
    {
     "name": "stdout",
     "output_type": "stream",
     "text": [
      "ModelExploration_Status : completed\n",
      "SanityCheck_Status : passed\n",
      "QueryGenerator_Status : completed\n",
      "VunerabilityEngine_Status : completed\n",
      "DefenseReport_Status : completed\n",
      "IntegratedModelGenerator_Status : completed\n"
     ]
    }
   ],
   "source": [
    "\"\"\"\n",
    "Description: Query GetProcessDetail api and Monitor progress for job id\n",
    "\"\"\"\n",
    "job_status_url=url[:-18]+\"JobStatusDetailed?JobID=\" +job_id\n",
    "\n",
    "#status dictionary\n",
    "status_dictionary={\n",
    " 'ModelExploration_Status': 'na',\n",
    " 'SanityCheck_Status': 'na',\n",
    " 'QueryGenerator_Status': 'na',\n",
    " 'VunerabilityEngine_Status': 'na', \n",
    " 'DefenseReport_Status': 'na',\n",
    " 'IntegratedModelGenerator_Status':'na',\n",
    "\n",
    "}\n",
    "while(True):\n",
    "    time.sleep(5) \n",
    "    job_status_response = requests.request(\"GET\", job_status_url, params={},headers=headers)\n",
    "\n",
    "    job_status_payload=json.loads(job_status_response.text)\n",
    "    failing_key='ModelExploration_Status'\n",
    "    for key in status_dictionary.keys():\n",
    "        if status_dictionary[key]=='na':\n",
    "            if job_status_payload[key]=='completed' or job_status_payload[key]=='passed':\n",
    "                status_dictionary[key]=job_status_payload[key]\n",
    "                print(str(key), \":\",status_dictionary[key])\n",
    "            elif job_status_payload[key]=='failed':\n",
    "                failing_key=key\n",
    "                status_dictionary[key]=job_status_payload[key]\n",
    "                print(str(key), \":\",status_dictionary[key])\n",
    "\n",
    "    if status_dictionary[failing_key]=='failed':\n",
    "        break\n",
    "\n",
    "    if status_dictionary['VunerabilityEngine_Status']=='passed' or status_dictionary['VunerabilityEngine_Status']=='completed' and job_status_payload['CurrentStatus']==\"Defense generation is not triggered\" :\n",
    "        print(\"\\n Vulnerability score {} failed to cross vulnerability threshoold of {}\".format(job_status_payload['VulnerabiltyScore'],job_meta_data['vulnerability_threshold']))\n",
    "        break\n",
    "    if job_status_payload['IntegratedModelGenerator_Status']=='completed':\n",
    "        break"
   ]
  },
  {
   "cell_type": "markdown",
   "id": "9e19f8e5",
   "metadata": {},
   "source": [
    "#### Get all Vulnerability and upload to S3"
   ]
  },
  {
   "cell_type": "code",
   "execution_count": null,
   "id": "7e7add04",
   "metadata": {},
   "outputs": [],
   "source": [
    "job_artifact_url=url[:-18]+\"GetReport?JobID=\" +job_id+\"&ReportType=Vulnerability&fileFormat=2\""
   ]
  },
  {
   "cell_type": "code",
   "execution_count": null,
   "id": "e2433b4e",
   "metadata": {},
   "outputs": [],
   "source": [
    "job_status_response = requests.request(\"GET\", job_artifact_url, params={},headers=headers)"
   ]
  },
  {
   "cell_type": "code",
   "execution_count": null,
   "id": "d151c671",
   "metadata": {},
   "outputs": [],
   "source": [
    "with open('/root/mnist/reports/Vulnerability.pdf', 'wb') as f:\n",
    "    f.write(job_status_response.content)"
   ]
  },
  {
   "cell_type": "code",
   "execution_count": null,
   "id": "d83326fb",
   "metadata": {},
   "outputs": [],
   "source": [
    "# upload the defense model to S3 bucket\n",
    "prefix = \"mnist-ais-reports\"\n",
    "bucket = sess.default_bucket()\n",
    "vul_report_loc = sess.upload_data(path=\"/root/mnist/reports/Vulnerability.pdf\", bucket=bucket, key_prefix=prefix)\n",
    "print(\"Vulnerability report saved at:\\n\", vul_report_loc)"
   ]
  },
  {
   "cell_type": "markdown",
   "id": "0b11c228",
   "metadata": {},
   "source": [
    "#### Get defence model artifacts"
   ]
  },
  {
   "cell_type": "code",
   "execution_count": 30,
   "id": "5cd6381d",
   "metadata": {},
   "outputs": [],
   "source": [
    "job_artifact_url=url[:-18]+\"GetReport?JobID=\" +job_id+\"&ReportType=Defense_artifact&fileFormat=0\""
   ]
  },
  {
   "cell_type": "code",
   "execution_count": 31,
   "id": "c5fb7d7b",
   "metadata": {},
   "outputs": [],
   "source": [
    "job_status_response = requests.request(\"GET\", job_artifact_url, params={},headers=headers)"
   ]
  },
  {
   "cell_type": "code",
   "execution_count": 32,
   "id": "f90e566c",
   "metadata": {},
   "outputs": [],
   "source": [
    "with open('defense_artifact.zip', \"wb\") as f:\n",
    "  f.write(job_status_response.content)\n",
    "\n",
    "shutil.unpack_archive('defense_artifact.zip', 'defense_artifact')"
   ]
  },
  {
   "cell_type": "markdown",
   "id": "dba2c703",
   "metadata": {},
   "source": [
    "### 3. Converting to SageMaker compatible - TensorFlow ProtoBuf format for deployment"
   ]
  },
  {
   "cell_type": "code",
   "execution_count": 34,
   "id": "835cafb5",
   "metadata": {},
   "outputs": [
    {
     "name": "stdout",
     "output_type": "stream",
     "text": [
      "[2022-04-25 14:43:04.767 tensorflow-2-3-cpu-py-ml-t3-medium-f34868a61417544349a28b60e5e0:455 INFO utils.py:27] RULE_JOB_STOP_SIGNAL_FILENAME: None\n",
      "[2022-04-25 14:43:05.015 tensorflow-2-3-cpu-py-ml-t3-medium-f34868a61417544349a28b60e5e0:455 INFO profiler_config_parser.py:102] Unable to find config at /opt/ml/input/config/profilerconfig.json. Profiler is disabled.\n"
     ]
    }
   ],
   "source": [
    "loaded_defense_model = keras.models.load_model('/root/mnist/defense_artifact/defense_model.h5')"
   ]
  },
  {
   "cell_type": "code",
   "execution_count": 35,
   "id": "1a8c607d",
   "metadata": {},
   "outputs": [
    {
     "name": "stdout",
     "output_type": "stream",
     "text": [
      "WARNING:tensorflow:From /usr/local/lib/python3.7/site-packages/tensorflow/python/training/tracking/tracking.py:111: Model.state_updates (from tensorflow.python.keras.engine.training) is deprecated and will be removed in a future version.\n",
      "Instructions for updating:\n",
      "This property should not be used in TensorFlow 2.0, as updates are applied automatically.\n"
     ]
    },
    {
     "name": "stderr",
     "output_type": "stream",
     "text": [
      "WARNING:tensorflow:From /usr/local/lib/python3.7/site-packages/tensorflow/python/training/tracking/tracking.py:111: Model.state_updates (from tensorflow.python.keras.engine.training) is deprecated and will be removed in a future version.\n",
      "Instructions for updating:\n",
      "This property should not be used in TensorFlow 2.0, as updates are applied automatically.\n"
     ]
    },
    {
     "name": "stdout",
     "output_type": "stream",
     "text": [
      "WARNING:tensorflow:From /usr/local/lib/python3.7/site-packages/tensorflow/python/training/tracking/tracking.py:111: Layer.updates (from tensorflow.python.keras.engine.base_layer) is deprecated and will be removed in a future version.\n",
      "Instructions for updating:\n",
      "This property should not be used in TensorFlow 2.0, as updates are applied automatically.\n"
     ]
    },
    {
     "name": "stderr",
     "output_type": "stream",
     "text": [
      "WARNING:tensorflow:From /usr/local/lib/python3.7/site-packages/tensorflow/python/training/tracking/tracking.py:111: Layer.updates (from tensorflow.python.keras.engine.base_layer) is deprecated and will be removed in a future version.\n",
      "Instructions for updating:\n",
      "This property should not be used in TensorFlow 2.0, as updates are applied automatically.\n"
     ]
    },
    {
     "name": "stdout",
     "output_type": "stream",
     "text": [
      "INFO:tensorflow:Assets written to: /root/mnist/defense_artifact/Servo/3/assets\n"
     ]
    },
    {
     "name": "stderr",
     "output_type": "stream",
     "text": [
      "INFO:tensorflow:Assets written to: /root/mnist/defense_artifact/Servo/3/assets\n"
     ]
    }
   ],
   "source": [
    "model_version = '3'\n",
    "export_dir = '/root/mnist/defense_artifact/Servo/' + model_version\n",
    "tf.saved_model.save(loaded_defense_model, export_dir)"
   ]
  },
  {
   "cell_type": "code",
   "execution_count": 36,
   "id": "aab10028",
   "metadata": {},
   "outputs": [],
   "source": [
    "import tarfile\n",
    "with tarfile.open('/root/mnist/defense_artifact/model.tar.gz', mode='w:gz') as archive:\n",
    "    archive.add(export_dir, recursive=True)"
   ]
  },
  {
   "cell_type": "code",
   "execution_count": 37,
   "id": "7c2d63e6",
   "metadata": {},
   "outputs": [
    {
     "name": "stdout",
     "output_type": "stream",
     "text": [
      "Defense model artifact saved at:\n",
      " s3://sagemaker-eu-central-1-901214976877/mnist-defense/model.tar.gz\n"
     ]
    }
   ],
   "source": [
    "# upload the defense model to S3 bucket\n",
    "prefix = \"mnist-defense\"\n",
    "bucket = sess.default_bucket()\n",
    "defense_model_loc = sess.upload_data(path=\"/root/mnist/defense_artifact/model.tar.gz\", bucket=bucket, key_prefix=prefix)\n",
    "print(\"Defense model artifact saved at:\\n\", defense_model_loc)"
   ]
  },
  {
   "cell_type": "markdown",
   "id": "4e82af63",
   "metadata": {},
   "source": [
    "# Deploy"
   ]
  },
  {
   "cell_type": "code",
   "execution_count": 38,
   "id": "bbe3a25c",
   "metadata": {},
   "outputs": [],
   "source": [
    "test_data = np.random.rand(2, 28, 28, 1)"
   ]
  },
  {
   "cell_type": "markdown",
   "id": "00465c7a",
   "metadata": {},
   "source": [
    "#### 1. Deploy original model"
   ]
  },
  {
   "cell_type": "code",
   "execution_count": 39,
   "id": "c896911b",
   "metadata": {},
   "outputs": [
    {
     "name": "stdout",
     "output_type": "stream",
     "text": [
      "Model artifact saved at:\n",
      " s3://sagemaker-eu-central-1-901214976877/tensorflow/mnist/tensorflow-training-2022-04-25-13-47-40-595/output/model.tar.gz\n"
     ]
    }
   ],
   "source": [
    "tf_mnist_model_data = est.model_data\n",
    "print(\"Model artifact saved at:\\n\", tf_mnist_model_data)"
   ]
  },
  {
   "cell_type": "code",
   "execution_count": 40,
   "id": "eb7a055a",
   "metadata": {},
   "outputs": [
    {
     "name": "stderr",
     "output_type": "stream",
     "text": [
      "WARNING:sagemaker.deprecations:update_endpoint is a no-op in sagemaker>=2.\n",
      "See: https://sagemaker.readthedocs.io/en/stable/v2.html for details.\n",
      "INFO:sagemaker:Creating model with name: tensorflow-training-2022-04-25-14-43-14-938\n",
      "INFO:sagemaker:Creating endpoint with name tensorflow-training-2022-04-25-14-43-14-938\n"
     ]
    },
    {
     "name": "stdout",
     "output_type": "stream",
     "text": [
      "-----!"
     ]
    },
    {
     "name": "stderr",
     "output_type": "stream",
     "text": [
      "WARNING:sagemaker.deprecations:The endpoint attribute has been renamed in sagemaker>=2.\n",
      "See: https://sagemaker.readthedocs.io/en/stable/v2.html for details.\n"
     ]
    },
    {
     "name": "stdout",
     "output_type": "stream",
     "text": [
      "predictor endpoint:  tensorflow-training-2022-04-25-14-43-14-938\n"
     ]
    }
   ],
   "source": [
    "predictor = est.deploy(initial_instance_count=1, instance_type=\"ml.c4.large\")\n",
    "print('predictor endpoint: ', predictor.endpoint)"
   ]
  },
  {
   "cell_type": "code",
   "execution_count": 41,
   "id": "a8b58700",
   "metadata": {},
   "outputs": [
    {
     "name": "stdout",
     "output_type": "stream",
     "text": [
      "[5 5]\n"
     ]
    }
   ],
   "source": [
    "# sanity check\n",
    "prediction = np.argmax(predictor.predict(test_data)['predictions'], axis=1)\n",
    "print(prediction)"
   ]
  },
  {
   "cell_type": "markdown",
   "id": "d57fd538",
   "metadata": {},
   "source": [
    "#### 2. Deploy defence model"
   ]
  },
  {
   "cell_type": "code",
   "execution_count": 42,
   "id": "5dd1eb72",
   "metadata": {},
   "outputs": [
    {
     "data": {
      "text/plain": [
       "'s3://sagemaker-eu-central-1-901214976877/mnist-defense/model.tar.gz'"
      ]
     },
     "execution_count": 42,
     "metadata": {},
     "output_type": "execute_result"
    }
   ],
   "source": [
    "defense_model_loc"
   ]
  },
  {
   "cell_type": "code",
   "execution_count": 43,
   "id": "de20255b",
   "metadata": {},
   "outputs": [],
   "source": [
    "defense_model = TensorFlowModel(model_data=defense_model_loc, role=role, framework_version=\"2.3.1\",)"
   ]
  },
  {
   "cell_type": "code",
   "execution_count": 44,
   "id": "6ba41633",
   "metadata": {},
   "outputs": [
    {
     "name": "stderr",
     "output_type": "stream",
     "text": [
      "WARNING:sagemaker.deprecations:update_endpoint is a no-op in sagemaker>=2.\n",
      "See: https://sagemaker.readthedocs.io/en/stable/v2.html for details.\n",
      "INFO:sagemaker:Creating model with name: tensorflow-inference-2022-04-25-15-04-54-107\n",
      "INFO:sagemaker:Creating endpoint with name tensorflow-inference-2022-04-25-15-04-54-446\n"
     ]
    },
    {
     "name": "stdout",
     "output_type": "stream",
     "text": [
      "-----!"
     ]
    },
    {
     "name": "stderr",
     "output_type": "stream",
     "text": [
      "WARNING:sagemaker.deprecations:The endpoint attribute has been renamed in sagemaker>=2.\n",
      "See: https://sagemaker.readthedocs.io/en/stable/v2.html for details.\n"
     ]
    },
    {
     "name": "stdout",
     "output_type": "stream",
     "text": [
      "Defense predictor endpoint:  tensorflow-inference-2022-04-25-15-04-54-446\n"
     ]
    }
   ],
   "source": [
    "defense_predictor = defense_model.deploy(initial_instance_count=1, instance_type=\"ml.c4.large\")\n",
    "print('Defense predictor endpoint: ', defense_predictor.endpoint)"
   ]
  },
  {
   "cell_type": "code",
   "execution_count": 45,
   "id": "3c587ed3",
   "metadata": {},
   "outputs": [
    {
     "data": {
      "text/plain": [
       "array([1, 1])"
      ]
     },
     "execution_count": 45,
     "metadata": {},
     "output_type": "execute_result"
    }
   ],
   "source": [
    "# sanity check\n",
    "np.argmax(defense_predictor.predict(test_data)['predictions'], axis=1)"
   ]
  },
  {
   "cell_type": "markdown",
   "id": "4eff3dc0",
   "metadata": {},
   "source": [
    "# Harden original model"
   ]
  },
  {
   "cell_type": "code",
   "execution_count": 46,
   "id": "15970313",
   "metadata": {},
   "outputs": [],
   "source": [
    "def pred_without_ais(data):\n",
    "    prediction = np.argmax(predictor.predict(data)['predictions'], axis=1)\n",
    "    return prediction"
   ]
  },
  {
   "cell_type": "code",
   "execution_count": 47,
   "id": "7160e513",
   "metadata": {},
   "outputs": [],
   "source": [
    "def pred_with_ais(data):\n",
    "    # passing to AIS-defense model\n",
    "    defense_prediction =  np.argmax(defense_predictor.predict(data)['predictions'], axis=1)\n",
    "    # passing to actual model\n",
    "    orig_prediction = np.argmax(predictor.predict(data)['predictions'], axis=1)\n",
    "    # Manipulating actual prediction based on defense model prediction\n",
    "    prediction = ['Attack' if def_pred==1 else orig_prediction[idx] for idx, def_pred in enumerate(defense_prediction)]\n",
    "    return prediction"
   ]
  },
  {
   "cell_type": "markdown",
   "id": "9ee857ab",
   "metadata": {},
   "source": [
    "# Results"
   ]
  },
  {
   "cell_type": "markdown",
   "id": "865c3222",
   "metadata": {},
   "source": [
    "#### 1. Actual data"
   ]
  },
  {
   "cell_type": "code",
   "execution_count": 48,
   "id": "2e8f9686",
   "metadata": {},
   "outputs": [],
   "source": [
    "'''\n",
    "Description: Visualize few random data sample\n",
    "'''\n",
    "rows=5\n",
    "\n",
    "random_indices=random.sample(range(images.shape[0]),rows*rows)\n",
    "sample_images=images[random_indices,:]\n",
    "sample_images = np.expand_dims(sample_images, axis=-1) \n",
    "sample_labels=labels[random_indices]"
   ]
  },
  {
   "cell_type": "code",
   "execution_count": 49,
   "id": "161904d1",
   "metadata": {},
   "outputs": [
    {
     "data": {
      "text/plain": [
       "array([7, 2, 5, 7, 3, 9, 1, 1, 5, 1, 2, 2, 6, 3, 7, 0, 8, 1, 6, 2, 8, 9,\n",
       "       3, 5, 9])"
      ]
     },
     "execution_count": 49,
     "metadata": {},
     "output_type": "execute_result"
    }
   ],
   "source": [
    "pred_wo_ais = pred_without_ais(sample_images)\n",
    "pred_wo_ais"
   ]
  },
  {
   "cell_type": "code",
   "execution_count": 50,
   "id": "8f01fa18",
   "metadata": {},
   "outputs": [
    {
     "data": {
      "text/plain": [
       "[7, 2, 5, 7, 3, 9, 1, 1, 5, 1, 2, 2, 6, 3, 7, 0, 8, 1, 6, 2, 8, 9, 3, 5, 9]"
      ]
     },
     "execution_count": 50,
     "metadata": {},
     "output_type": "execute_result"
    }
   ],
   "source": [
    "# prediction with AIS integrationa\n",
    "pred_w_ais = pred_with_ais(sample_images)\n",
    "pred_w_ais"
   ]
  },
  {
   "cell_type": "code",
   "execution_count": 51,
   "id": "c416c422",
   "metadata": {},
   "outputs": [
    {
     "data": {
      "image/png": "[encoded data removed]",
      "text/plain": [
       "<Figure size 864x648 with 25 Axes>"
      ]
     },
     "metadata": {
      "needs_background": "light"
     },
     "output_type": "display_data"
    }
   ],
   "source": [
    "rows = 5\n",
    "fig,axs=plt.subplots(nrows=rows,ncols=rows,figsize=(12,9),sharex=True,sharey=True)\n",
    "for i in range(rows*rows):\n",
    "    subplot_row=i // rows\n",
    "    subplot_col=i % rows\n",
    "    axs[subplot_row,subplot_col].imshow(sample_images[i,:])\n",
    "    axs[subplot_row,subplot_col].set_title(\"Predicted with AIS %d\" % pred_w_ais[i])\n",
    "plt.tight_layout()"
   ]
  },
  {
   "cell_type": "markdown",
   "id": "16e30a2b",
   "metadata": {},
   "source": [
    "### 2. Attack data"
   ]
  },
  {
   "cell_type": "code",
   "execution_count": 52,
   "id": "b83e82bf",
   "metadata": {},
   "outputs": [],
   "source": [
    "'''\n",
    "Description: Create quereis for model extraction\n",
    "'''\n",
    "attack_queries = np.random.rand(25,28,28,1)*0\n",
    "for i in (range(attack_queries.shape[0])):\n",
    "    for _ in range(np.random.randint(0,20)):\n",
    "        x1 = np.random.randint(0,20)\n",
    "        y1 = np.random.randint(0,20)\n",
    "        x2 = np.random.randint(x1,28)\n",
    "        y2 = np.random.randint(y1,28)\n",
    "        attack_queries[i,x1:x2,y1:y2,0] = 1        "
   ]
  },
  {
   "cell_type": "markdown",
   "id": "dbce3fa7",
   "metadata": {},
   "source": [
    "#### 2.1.1 without AIS"
   ]
  },
  {
   "cell_type": "code",
   "execution_count": 53,
   "id": "70a0d2d0",
   "metadata": {},
   "outputs": [
    {
     "data": {
      "text/plain": [
       "array([5, 5, 2, 3, 5, 5, 2, 7, 2, 7, 5, 6, 5, 3, 5, 6, 2, 4, 2, 6, 2, 5,\n",
       "       9, 5, 5])"
      ]
     },
     "execution_count": 53,
     "metadata": {},
     "output_type": "execute_result"
    }
   ],
   "source": [
    "# prediction without AIS integrationa\n",
    "pred_wo_ais = pred_without_ais(attack_queries)\n",
    "pred_wo_ais"
   ]
  },
  {
   "cell_type": "code",
   "execution_count": 54,
   "id": "f0e4d6a9",
   "metadata": {},
   "outputs": [
    {
     "data": {
      "image/png": "[encoded data removed]",
      "text/plain": [
       "<Figure size 864x648 with 25 Axes>"
      ]
     },
     "metadata": {
      "needs_background": "light"
     },
     "output_type": "display_data"
    }
   ],
   "source": [
    "rows = 5\n",
    "fig,axs=plt.subplots(nrows=rows,ncols=rows,figsize=(12,9),sharex=True,sharey=True)\n",
    "for i in range(rows*rows):\n",
    "    subplot_row=i // rows\n",
    "    subplot_col=i % rows\n",
    "    axs[subplot_row,subplot_col].imshow(attack_queries[i,:])\n",
    "    axs[subplot_row,subplot_col].set_title(\"Predicted w/o AIS %d\" % pred_wo_ais[i])\n",
    "plt.tight_layout()"
   ]
  },
  {
   "cell_type": "markdown",
   "id": "995a1768",
   "metadata": {},
   "source": [
    "#### 2.2.2 with AIS"
   ]
  },
  {
   "cell_type": "code",
   "execution_count": 55,
   "id": "47919b90",
   "metadata": {},
   "outputs": [],
   "source": [
    "# prediction with AIS integrationa\n",
    "pred_ais = pred_with_ais(attack_queries)"
   ]
  },
  {
   "cell_type": "code",
   "execution_count": 56,
   "id": "7c8782e1",
   "metadata": {},
   "outputs": [
    {
     "data": {
      "image/png": "[encoded data removed]",
      "text/plain": [
       "<Figure size 864x648 with 25 Axes>"
      ]
     },
     "metadata": {
      "needs_background": "light"
     },
     "output_type": "display_data"
    }
   ],
   "source": [
    "rows = 5\n",
    "fig,axs=plt.subplots(nrows=rows,ncols=rows,figsize=(12,9),sharex=True,sharey=True)\n",
    "for i in range(rows*rows):\n",
    "    subplot_row=i // rows\n",
    "    subplot_col=i % rows\n",
    "    axs[subplot_row,subplot_col].imshow(attack_queries[i,:])\n",
    "    axs[subplot_row,subplot_col].set_title(\"Predicted with AIS- %s\" % str(pred_ais[i]))\n",
    "plt.tight_layout()"
   ]
  },
  {
   "cell_type": "markdown",
   "id": "cbef3292",
   "metadata": {},
   "source": [
    "## Clean-up deployments"
   ]
  },
  {
   "cell_type": "code",
   "execution_count": 57,
   "id": "5f8c4133",
   "metadata": {},
   "outputs": [
    {
     "name": "stderr",
     "output_type": "stream",
     "text": [
      "INFO:sagemaker:Deleting endpoint configuration with name: tensorflow-training-2022-04-25-14-43-14-938\n",
      "INFO:sagemaker:Deleting endpoint with name: tensorflow-training-2022-04-25-14-43-14-938\n"
     ]
    }
   ],
   "source": [
    "predictor.delete_endpoint()"
   ]
  },
  {
   "cell_type": "code",
   "execution_count": 58,
   "id": "73fc514f",
   "metadata": {},
   "outputs": [
    {
     "name": "stderr",
     "output_type": "stream",
     "text": [
      "INFO:sagemaker:Deleting endpoint configuration with name: tensorflow-inference-2022-04-25-15-04-54-446\n",
      "INFO:sagemaker:Deleting endpoint with name: tensorflow-inference-2022-04-25-15-04-54-446\n"
     ]
    }
   ],
   "source": [
    "defense_predictor.delete_endpoint()"
   ]
  },
  {
   "cell_type": "code",
   "execution_count": null,
   "id": "1b957b31",
   "metadata": {},
   "outputs": [],
   "source": []
  }
 ],
 "metadata": {
  "instance_type": "ml.t3.medium",
  "kernelspec": {
   "display_name": "Python 3 (ipykernel)",
   "language": "python",
   "name": "python3"
  },
  "language_info": {
   "codemirror_mode": {
    "name": "ipython",
    "version": 3
   },
   "file_extension": ".py",
   "mimetype": "text/x-python",
   "name": "python",
   "nbconvert_exporter": "python",
   "pygments_lexer": "ipython3",
   "version": "3.9.7"
  }
 },
 "nbformat": 4,
 "nbformat_minor": 5
}
