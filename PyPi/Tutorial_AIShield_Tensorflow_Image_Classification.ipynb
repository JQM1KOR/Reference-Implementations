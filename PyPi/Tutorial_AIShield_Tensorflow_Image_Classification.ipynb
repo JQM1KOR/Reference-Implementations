{
  "cells": [
    {
      "cell_type": "markdown",
      "id": "8bb70591",
      "metadata": {
        "id": "8bb70591"
      },
      "source": [
        "# Vulnerability Analysis and Defense Generation using AIShield SDK\n",
        "* <b>File Name</b>                          : Tutorial_AIShield_Tensorflow_Image_Classification.ipynb\n",
        "* <b>Date of creation(dd-mm-yyyy)</b>       : 30-11-2022\n",
        "* <b>Author Name/Dept</b>                   : AIShield\n",
        "* <b>Organization</b>                       : BGSW\n",
        "* <b>Description</b>                        : Source Code of Reference Implementation\n",
        "* <b>Copyright</b>                          : Copyright 2022 Bosch Global Software Technologies Private Limited. All Rights Reserved.\n",
        "\n",
        "### Input\n",
        "This Example does the following:\n",
        "* Downloads the MNIST-Dataset from Tensorflow-Datasets\n",
        "* Trains a Tensorflow Model for Image Classification on the MNIST Dataset\n",
        "* Trained Model File : \"_mnist_model.h5_\"\n",
        "\n",
        "### Output and Artifacts\n",
        "1. Vulnerability report\n",
        "2. Defense report\n",
        "3. Defense model"
      ]
    },
    {
      "cell_type": "code",
      "source": [
        "## Install AIShield SDK.\n",
        "## If not already installed, install by uncommenting the code below\n",
        "# !pip install aishield"
      ],
      "metadata": {
        "id": "NIGRtOuVvNM7"
      },
      "id": "NIGRtOuVvNM7",
      "execution_count": 31,
      "outputs": []
    },
    {
      "cell_type": "markdown",
      "id": "51021949",
      "metadata": {
        "id": "51021949"
      },
      "source": [
        "# `Prerequisites for Reference Implementation` \n",
        "\n",
        "1. Jupyter Notebook\n",
        "2. Python 3.X\n",
        "3. matplotlib 3.5.1\n",
        "4. numpy 1.22.3\n",
        "5. opencv-python 4.5.5.64\n",
        "6. pandas 1.4.1\n",
        "7. scikit-learn 1.0.2\n",
        "8. tensorflow 2.3.0\n",
        "9. zipp 3.7.0"
      ]
    },
    {
      "cell_type": "markdown",
      "id": "db63a1b8",
      "metadata": {
        "id": "db63a1b8"
      },
      "source": [
        "# `1.0 Import Libraries`"
      ]
    },
    {
      "cell_type": "code",
      "execution_count": 2,
      "id": "238f8461",
      "metadata": {
        "id": "238f8461"
      },
      "outputs": [],
      "source": [
        "import tensorflow as tf\n",
        "from tensorflow import keras\n",
        "import numpy as np\n",
        "import matplotlib.pyplot as plt\n",
        "from tensorflow.keras import datasets, layers, optimizers , Sequential\n",
        "from sklearn.model_selection import train_test_split\n",
        "import zipfile \n",
        "import pandas as pd\n",
        "import cv2\n",
        "import os\n",
        "import random\n",
        "import requests\n",
        "import json\n",
        "import time\n",
        "import shutil\n",
        "\n",
        "#importing AIShield Library\n",
        "import aishield as ais"
      ]
    },
    {
      "cell_type": "markdown",
      "id": "6a5573f0",
      "metadata": {
        "id": "6a5573f0"
      },
      "source": [
        "# `2.0 Data Loading and Preprocessing`"
      ]
    },
    {
      "cell_type": "markdown",
      "id": "7a574053",
      "metadata": {
        "id": "7a574053"
      },
      "source": [
        "### `Loading MNIST Dataset` \n"
      ]
    },
    {
      "cell_type": "code",
      "execution_count": 3,
      "id": "645ec785",
      "metadata": {
        "colab": {
          "base_uri": "https://localhost:8080/"
        },
        "id": "645ec785",
        "outputId": "0155183c-f979-4928-f3f0-1573d129b9f9"
      },
      "outputs": [
        {
          "output_type": "stream",
          "name": "stdout",
          "text": [
            "Downloading data from https://storage.googleapis.com/tensorflow/tf-keras-datasets/mnist.npz\n",
            "11490434/11490434 [==============================] - 0s 0us/step\n"
          ]
        }
      ],
      "source": [
        "(X_train,y_train),(X_test,y_test)=datasets.mnist.load_data()"
      ]
    },
    {
      "cell_type": "markdown",
      "id": "524084e3",
      "metadata": {
        "id": "524084e3"
      },
      "source": [
        "### `Splitting Data into Training and Validation Data` \n"
      ]
    },
    {
      "cell_type": "code",
      "execution_count": 4,
      "id": "625bd8cd",
      "metadata": {
        "id": "625bd8cd"
      },
      "outputs": [],
      "source": [
        "X_train, X_val, y_train, y_val = train_test_split(X_train,y_train,stratify = y_train,test_size = 0.1,random_state = 42)"
      ]
    },
    {
      "cell_type": "markdown",
      "id": "2a111a20",
      "metadata": {
        "id": "2a111a20"
      },
      "source": [
        "### `Checking size of the datasets` \n"
      ]
    },
    {
      "cell_type": "code",
      "execution_count": 5,
      "id": "01d4434a",
      "metadata": {
        "colab": {
          "base_uri": "https://localhost:8080/"
        },
        "id": "01d4434a",
        "outputId": "4d766aae-ecd3-4bf1-f3e0-6b19a72cb4ab"
      },
      "outputs": [
        {
          "output_type": "stream",
          "name": "stdout",
          "text": [
            "shape of x_train:  (54000, 28, 28)\n",
            "shape of y_train: (54000,)\n",
            "shape of x_test: (10000, 28, 28)\n",
            "shape of y_test: (10000,)\n",
            "shape of x_val: (6000, 28, 28)\n",
            "shape of y_val: (6000,)\n"
          ]
        }
      ],
      "source": [
        "print(\"shape of x_train: \",X_train.shape)\n",
        "print(\"shape of y_train: {}\".format(y_train.shape))\n",
        "print(f'shape of x_test: {X_test.shape}')\n",
        "print(f'shape of y_test: {y_test.shape}')\n",
        "print(f'shape of x_val: {X_val.shape}')\n",
        "print(f'shape of y_val: {y_val.shape}')"
      ]
    },
    {
      "cell_type": "markdown",
      "id": "6ebaf74b",
      "metadata": {
        "id": "6ebaf74b"
      },
      "source": [
        "### `Visualizing few random data samples` \n"
      ]
    },
    {
      "cell_type": "code",
      "execution_count": 6,
      "id": "8b89c19e",
      "metadata": {
        "colab": {
          "base_uri": "https://localhost:8080/",
          "height": 657
        },
        "id": "8b89c19e",
        "outputId": "9cf45ed3-0091-4260-ff40-3629dedd761a"
      },
      "outputs": [
        {
          "output_type": "display_data",
          "data": {
            "text/plain": [
              "<Figure size 864x648 with 25 Axes>"
            ],
            "image/png": "[encoded data removed]"
          },
          "metadata": {
            "needs_background": "light"
          }
        }
      ],
      "source": [
        "rows=5\n",
        "\n",
        "random_indices=random.sample(range(X_train.shape[0]),rows*rows)\n",
        "sample_images=X_train[random_indices,:]\n",
        "sample_labels=y_train[random_indices]\n",
        "\n",
        "fig,axs=plt.subplots(nrows=rows,ncols=rows,figsize=(12,9),sharex=True,sharey=True)\n",
        "for i in range(rows*rows):\n",
        "    subplot_row=i // rows\n",
        "    subplot_col=i % rows\n",
        "    axs[subplot_row,subplot_col].imshow(sample_images[i,:])\n",
        "    axs[subplot_row,subplot_col].set_title(\"Label. %d\" % sample_labels[i])\n",
        "plt.tight_layout()"
      ]
    },
    {
      "cell_type": "markdown",
      "id": "8152b5ff",
      "metadata": {
        "id": "8152b5ff"
      },
      "source": [
        "### `Setting values for Number of Classes and Input Shape` \n"
      ]
    },
    {
      "cell_type": "code",
      "execution_count": 7,
      "id": "a4a39311",
      "metadata": {
        "id": "a4a39311"
      },
      "outputs": [],
      "source": [
        "img_row,img_col,channel=28,28,1\n",
        "num_classes=10\n",
        "input_shape=(img_row,img_col,channel)"
      ]
    },
    {
      "cell_type": "markdown",
      "id": "c8fdb3a9",
      "metadata": {
        "id": "c8fdb3a9"
      },
      "source": [
        "### `Normalizing and Reshaping the Data` \n"
      ]
    },
    {
      "cell_type": "code",
      "execution_count": 8,
      "id": "b9e34e3b",
      "metadata": {
        "id": "b9e34e3b"
      },
      "outputs": [],
      "source": [
        "X_train = X_train.reshape(-1,*input_shape)/255.0\n",
        "X_val =  X_val.reshape(-1,*input_shape)/255.0\n",
        "X_test =  X_test.reshape(-1,*input_shape)/255.0"
      ]
    },
    {
      "cell_type": "markdown",
      "id": "7365a93c",
      "metadata": {
        "id": "7365a93c"
      },
      "source": [
        "### `Convert the Labels to one hot encoder` \n"
      ]
    },
    {
      "cell_type": "code",
      "execution_count": 9,
      "id": "40bd0b1c",
      "metadata": {
        "id": "40bd0b1c"
      },
      "outputs": [],
      "source": [
        "y_train=keras.utils.to_categorical(y_train,num_classes)\n",
        "y_test=keras.utils.to_categorical(y_test,num_classes)"
      ]
    },
    {
      "cell_type": "markdown",
      "id": "de7fecaf",
      "metadata": {
        "id": "de7fecaf"
      },
      "source": [
        "# `3.0 Model Development and Training`"
      ]
    },
    {
      "cell_type": "code",
      "execution_count": 10,
      "id": "b5c135cb",
      "metadata": {
        "id": "b5c135cb"
      },
      "outputs": [],
      "source": [
        "def make_directory(directory):\n",
        "    \"\"\"\n",
        "    Create directory\n",
        "\n",
        "    Parameters\n",
        "    ----------\n",
        "    directorys : list containing the directory's path to create \n",
        "    \n",
        "    Returns\n",
        "    -------\n",
        "    None.\n",
        "\n",
        "    \"\"\"\n",
        "    for d in directory:\n",
        "        if os.path.isdir(d):\n",
        "            print(\"directory {} already exist\".format(d))\n",
        "        if os.path.isdir(d)==False:\n",
        "            os.mkdir(path=d)\n",
        "            print(\"directory {} created successfully\".format(d))"
      ]
    },
    {
      "cell_type": "code",
      "execution_count": 11,
      "id": "d74a31fd",
      "metadata": {
        "id": "d74a31fd"
      },
      "outputs": [],
      "source": [
        "def delete_directory(directorys):\n",
        "    \"\"\"\n",
        "    Delete directory \n",
        "\n",
        "    Parameters\n",
        "    ----------\n",
        "    directorys : list containing the directory's path to delete along with all the files\n",
        "\n",
        "    Returns\n",
        "    -------\n",
        "    None.\n",
        "\n",
        "    \"\"\"\n",
        "    if len(directorys)>=1:\n",
        "        for d in directorys:\n",
        "            if os.path.isdir(d):\n",
        "                try:\n",
        "                    if os.path.isfile(d):\n",
        "                        os.remove(path=d)\n",
        "                    else:\n",
        "                        shutil.rmtree(path=d)\n",
        "                        print(\"Removed: {}\".format(d))\n",
        "                except:\n",
        "                    print(\"Failed to removed: {}\".format(d))\n",
        "            else:\n",
        "                print(\"Failed to removed: {}\".format(d))\n",
        "                "
      ]
    },
    {
      "cell_type": "code",
      "execution_count": 12,
      "id": "00b9df5d",
      "metadata": {
        "id": "00b9df5d"
      },
      "outputs": [],
      "source": [
        "def make_archive(base_name,root_dir,zip_format='zip'):\n",
        "    \"\"\"\n",
        "    Creates zip for given folder\n",
        "\n",
        "    Parameters\n",
        "    ----------\n",
        "    base_name : name of zip file\n",
        "    root_dir : directory to archive/zip\n",
        "    zip_format : zip or tar \n",
        "        DESCRIPTION. The default is 'zip'.\n",
        "\n",
        "    Returns\n",
        "    -------\n",
        "    None.\n",
        "\n",
        "    \"\"\"\n",
        "    shutil.make_archive(base_name=base_name, format=zip_format, root_dir=root_dir)\n",
        "    "
      ]
    },
    {
      "cell_type": "markdown",
      "id": "b2b98ef5",
      "metadata": {
        "id": "b2b98ef5"
      },
      "source": [
        "### `Creating Data, Model and Label Folder` \n"
      ]
    },
    {
      "cell_type": "code",
      "execution_count": 13,
      "id": "cf995990",
      "metadata": {
        "colab": {
          "base_uri": "https://localhost:8080/"
        },
        "id": "cf995990",
        "outputId": "562cc611-a2db-4fb0-84fd-92dcfe47eaba"
      },
      "outputs": [
        {
          "output_type": "stream",
          "name": "stdout",
          "text": [
            "Failed to removed: /content/data\n",
            "Failed to removed: /content/model\n",
            "Failed to removed: /content/label\n",
            "Failed to removed: /content/zip2\n",
            "directory /content/data created successfully\n",
            "directory /content/model created successfully\n",
            "directory /content/label created successfully\n",
            "directory /content/zip2 created successfully\n"
          ]
        }
      ],
      "source": [
        "data_path=os.path.join(os.getcwd(),\"data\")\n",
        "model_path=os.path.join(os.getcwd(),\"model\")\n",
        "label_path=os.path.join(os.getcwd(),\"label\")\n",
        "\n",
        "#Create Zip Path which contains data , model and label zip files\n",
        "zip_path=os.path.join(os.getcwd(),\"zip2\")\n",
        "\n",
        "#deleting previously generated folders\n",
        "delete_directory(directorys=[data_path,model_path,label_path,zip_path])\n",
        "\n",
        "#creating folders\n",
        "make_directory([data_path,model_path,label_path,zip_path])"
      ]
    },
    {
      "cell_type": "markdown",
      "id": "392feb06",
      "metadata": {
        "id": "392feb06"
      },
      "source": [
        "### `Creating the Model Architecture` \n"
      ]
    },
    {
      "cell_type": "code",
      "execution_count": 14,
      "id": "04fb22ba",
      "metadata": {
        "id": "04fb22ba"
      },
      "outputs": [],
      "source": [
        "\"\"\"\n",
        "Description: Create model architecture\n",
        "\"\"\"\n",
        "model = Sequential([\n",
        "    layers.Conv2D(32, (5,5), padding='same', activation='relu', input_shape=input_shape),\n",
        "    layers.Conv2D(32, (5,5), padding='same', activation='relu'),\n",
        "    layers.MaxPool2D(),\n",
        "    layers.Dropout(0.25),\n",
        "    layers.Conv2D(64, (3,3), padding='same', activation='relu'),\n",
        "    layers.Conv2D(64, (3,3), padding='same', activation='relu'),\n",
        "    layers.MaxPool2D(strides=(2,2)),\n",
        "    layers.Dropout(0.25),\n",
        "    layers.Flatten(),\n",
        "    layers.Dense(128, activation='relu'),\n",
        "    layers.Dropout(0.5),\n",
        "    layers.Dense(num_classes, activation='softmax')  \n",
        "])\n",
        "\n",
        "#Compile model\n",
        "model.compile(optimizer=optimizers.Adam(learning_rate=1e-3), loss = 'categorical_crossentropy', metrics=['accuracy'])"
      ]
    },
    {
      "cell_type": "code",
      "execution_count": 15,
      "id": "e75974d4",
      "metadata": {
        "colab": {
          "base_uri": "https://localhost:8080/"
        },
        "id": "e75974d4",
        "outputId": "10d0b42f-2313-4fac-cd0e-077b059204e5"
      },
      "outputs": [
        {
          "output_type": "stream",
          "name": "stdout",
          "text": [
            "Model: \"sequential\"\n",
            "_________________________________________________________________\n",
            " Layer (type)                Output Shape              Param #   \n",
            "=================================================================\n",
            " conv2d (Conv2D)             (None, 28, 28, 32)        832       \n",
            "                                                                 \n",
            " conv2d_1 (Conv2D)           (None, 28, 28, 32)        25632     \n",
            "                                                                 \n",
            " max_pooling2d (MaxPooling2D  (None, 14, 14, 32)       0         \n",
            " )                                                               \n",
            "                                                                 \n",
            " dropout (Dropout)           (None, 14, 14, 32)        0         \n",
            "                                                                 \n",
            " conv2d_2 (Conv2D)           (None, 14, 14, 64)        18496     \n",
            "                                                                 \n",
            " conv2d_3 (Conv2D)           (None, 14, 14, 64)        36928     \n",
            "                                                                 \n",
            " max_pooling2d_1 (MaxPooling  (None, 7, 7, 64)         0         \n",
            " 2D)                                                             \n",
            "                                                                 \n",
            " dropout_1 (Dropout)         (None, 7, 7, 64)          0         \n",
            "                                                                 \n",
            " flatten (Flatten)           (None, 3136)              0         \n",
            "                                                                 \n",
            " dense (Dense)               (None, 128)               401536    \n",
            "                                                                 \n",
            " dropout_2 (Dropout)         (None, 128)               0         \n",
            "                                                                 \n",
            " dense_1 (Dense)             (None, 10)                1290      \n",
            "                                                                 \n",
            "=================================================================\n",
            "Total params: 484,714\n",
            "Trainable params: 484,714\n",
            "Non-trainable params: 0\n",
            "_________________________________________________________________\n"
          ]
        }
      ],
      "source": [
        "\"\"\"\n",
        "Description: Model summary\n",
        "\"\"\"\n",
        "model.summary()"
      ]
    },
    {
      "cell_type": "code",
      "execution_count": 16,
      "id": "fee5be43",
      "metadata": {
        "id": "fee5be43"
      },
      "outputs": [],
      "source": [
        "\"\"\"\n",
        "Description : Callbacks\n",
        "\"\"\"\n",
        "# Checkpoint\n",
        "checkpoint = tf.keras.callbacks.ModelCheckpoint(filepath=os.path.join(model_path,'mnist_model.h5'),monitor='val_loss',verbose=1,save_best_only=True,mode='auto')\n",
        "# Early stopper\n",
        "early_stop = tf.keras.callbacks.EarlyStopping(monitor='val_loss',min_delta=0,patience=3,mode='min')\n",
        "\n",
        "callbacks = [early_stop, checkpoint]"
      ]
    },
    {
      "cell_type": "markdown",
      "id": "bf1f2c1f",
      "metadata": {
        "id": "bf1f2c1f"
      },
      "source": [
        "### `Training and Evaluating the Model` \n"
      ]
    },
    {
      "cell_type": "code",
      "execution_count": 17,
      "id": "bb8aa5bd",
      "metadata": {
        "colab": {
          "base_uri": "https://localhost:8080/"
        },
        "id": "bb8aa5bd",
        "outputId": "c07568af-cf2f-4037-a690-f8fc40827b3d"
      },
      "outputs": [
        {
          "output_type": "stream",
          "name": "stdout",
          "text": [
            "Epoch 1/5\n",
            "844/844 [==============================] - ETA: 0s - loss: 0.2462 - accuracy: 0.9232\n",
            "Epoch 1: val_loss improved from inf to 0.06097, saving model to /content/model/mnist_model.h5\n",
            "844/844 [==============================] - 248s 293ms/step - loss: 0.2462 - accuracy: 0.9232 - val_loss: 0.0610 - val_accuracy: 0.9812\n",
            "Epoch 2/5\n",
            "844/844 [==============================] - ETA: 0s - loss: 0.0858 - accuracy: 0.9756\n",
            "Epoch 2: val_loss improved from 0.06097 to 0.03272, saving model to /content/model/mnist_model.h5\n",
            "844/844 [==============================] - 245s 290ms/step - loss: 0.0858 - accuracy: 0.9756 - val_loss: 0.0327 - val_accuracy: 0.9891\n",
            "Epoch 3/5\n",
            "844/844 [==============================] - ETA: 0s - loss: 0.0649 - accuracy: 0.9818\n",
            "Epoch 3: val_loss improved from 0.03272 to 0.02819, saving model to /content/model/mnist_model.h5\n",
            "844/844 [==============================] - 245s 290ms/step - loss: 0.0649 - accuracy: 0.9818 - val_loss: 0.0282 - val_accuracy: 0.9917\n",
            "Epoch 4/5\n",
            "844/844 [==============================] - ETA: 0s - loss: 0.0523 - accuracy: 0.9847\n",
            "Epoch 4: val_loss did not improve from 0.02819\n",
            "844/844 [==============================] - 255s 302ms/step - loss: 0.0523 - accuracy: 0.9847 - val_loss: 0.0290 - val_accuracy: 0.9898\n",
            "Epoch 5/5\n",
            "844/844 [==============================] - ETA: 0s - loss: 0.0447 - accuracy: 0.9871\n",
            "Epoch 5: val_loss improved from 0.02819 to 0.02292, saving model to /content/model/mnist_model.h5\n",
            "844/844 [==============================] - 255s 303ms/step - loss: 0.0447 - accuracy: 0.9871 - val_loss: 0.0229 - val_accuracy: 0.9925\n"
          ]
        }
      ],
      "source": [
        "\"\"\"\n",
        "Description: Training model\n",
        "\"\"\"\n",
        "history = model.fit(X_train, y_train, validation_data = (X_test, y_test),epochs = 1, batch_size=64, verbose = 1 , callbacks = callbacks)"
      ]
    },
    {
      "cell_type": "code",
      "execution_count": 18,
      "id": "5968a54a",
      "metadata": {
        "colab": {
          "base_uri": "https://localhost:8080/"
        },
        "id": "5968a54a",
        "outputId": "6a34ec85-c15f-4eef-939a-3c1c051bcd81"
      },
      "outputs": [
        {
          "output_type": "stream",
          "name": "stdout",
          "text": [
            "313/313 [==============================] - 12s 38ms/step - loss: 0.0229 - accuracy: 0.9925\n",
            "* Loss: 0.022919151932001114 \n",
            "* Accuracy: 0.9925000071525574\n"
          ]
        }
      ],
      "source": [
        "\"\"\"\n",
        "Description: Evaluate trained model\n",
        "\"\"\"\n",
        "loss,accuracy=model.evaluate(X_test, y_test)\n",
        "print(\"* Loss: {} \\n* Accuracy: {}\".format(loss,accuracy))"
      ]
    },
    {
      "cell_type": "markdown",
      "id": "7f8fb2de",
      "metadata": {
        "id": "7f8fb2de"
      },
      "source": [
        "# `4.0 Prepare Data , Model and Label`"
      ]
    },
    {
      "cell_type": "code",
      "execution_count": 19,
      "id": "dd20cc1d",
      "metadata": {
        "id": "dd20cc1d"
      },
      "outputs": [],
      "source": [
        "\"\"\"\n",
        "Description: Save data and label\n",
        "\"\"\"\n",
        "label=pd.DataFrame()\n",
        "img_name = []\n",
        "img_label = [] \n",
        "  \n",
        "for i in range(X_val.shape[0]):\n",
        "    cv2.imwrite(os.path.join(data_path,str(i)+\".jpg\") ,X_val[i]*255.0) # don't use plt.imread otheriwse while loading the saved images , and passing to model there is accuarcy drop \n",
        "    img_name.append(str(i)+\".jpg\")\n",
        "    img_label.append(y_val[i])\n",
        "label['image'] = img_name\n",
        "label[\"label\"] = np.array(img_label)\n",
        "\n",
        "#write orig_label dataframe\n",
        "label.to_csv(os.path.join(label_path,\"label.csv\"),index=False)"
      ]
    },
    {
      "cell_type": "markdown",
      "id": "3a705281",
      "metadata": {
        "id": "3a705281"
      },
      "source": [
        "### `Creating Zip Folders of Data, Label and Model`"
      ]
    },
    {
      "cell_type": "code",
      "execution_count": 20,
      "id": "c2f43cc4",
      "metadata": {
        "id": "c2f43cc4"
      },
      "outputs": [],
      "source": [
        "\"\"\"\n",
        "Description: Zip data\n",
        "\"\"\"\n",
        "make_archive(base_name=os.path.join(zip_path,\"data\"),root_dir=data_path,zip_format='zip')\n",
        "\n",
        "\"\"\"\n",
        "Description: Zip label\n",
        "\"\"\"\n",
        "make_archive(base_name=os.path.join(zip_path,\"label\"),root_dir=label_path,zip_format='zip')\n",
        "\n",
        "\"\"\"\n",
        "Description: Zip model\n",
        "\"\"\"\n",
        "model_encryption=0 #0 if model is uploaded directly as a zip, 1 if model is encryted as .pyc and uploaded as a zip\n",
        "if os.path.isfile(os.path.join(zip_path,\"model.zip\")):\n",
        "    delete_directory(directorys=[os.path.join(zip_path,\"model.zip\")])\n",
        "make_archive(base_name=os.path.join(zip_path,\"model\"),root_dir=model_path,zip_format='zip')"
      ]
    },
    {
      "cell_type": "markdown",
      "id": "6003304c",
      "metadata": {
        "id": "6003304c"
      },
      "source": [
        "# `5.0 Vulnerability Analysis and Defense Generation using AIShield SDK`"
      ]
    },
    {
      "cell_type": "code",
      "execution_count": 21,
      "id": "d32eb64d",
      "metadata": {
        "id": "d32eb64d"
      },
      "outputs": [],
      "source": [
        "\"\"\"\n",
        "Description: AIShield API URL and subscription key\n",
        "\"\"\" \n",
        "url=\"https://apim-ais-test-01.azure-api.net/trial/ic/ais/ImageClassification/VulnerabiltyReport\"\n",
        "token = \"2e8b21f6f3e84a6287ed36999877abf0\""
      ]
    },
    {
      "cell_type": "code",
      "execution_count": 22,
      "id": "6ff748b8",
      "metadata": {
        "id": "6ff748b8"
      },
      "outputs": [],
      "source": [
        "\"\"\"\n",
        "Description: File paths\n",
        "\"\"\"\n",
        "data_path=os.path.join(zip_path,'data.zip') #full path of data zip\n",
        "label_path=os.path.join(zip_path,'label.zip') #full path of label zip\n",
        "model_path=os.path.join(zip_path,'model.zip') #full path of model zip"
      ]
    },
    {
      "cell_type": "markdown",
      "id": "ea6bfae9",
      "metadata": {
        "id": "ea6bfae9"
      },
      "source": [
        "### `Perform Vulnerability Analysis through VulConfig Function`"
      ]
    },
    {
      "cell_type": "code",
      "execution_count": 23,
      "id": "6dfe30d9",
      "metadata": {
        "id": "6dfe30d9"
      },
      "outputs": [],
      "source": [
        "\"\"\"\n",
        "Description: Initialize the AIShield API\n",
        "\"\"\"\n",
        "client = ais.AIShieldApi(api_url=url, auth_token=token)"
      ]
    },
    {
      "cell_type": "code",
      "execution_count": 24,
      "id": "54019734",
      "metadata": {
        "colab": {
          "base_uri": "https://localhost:8080/"
        },
        "id": "54019734",
        "outputId": "71f1862e-f051-4558-a70d-dcc919a16656"
      },
      "outputs": [
        {
          "output_type": "stream",
          "name": "stdout",
          "text": [
            "IC-Extraction parameters are: \n",
            " {'attack': <Attack.EXTRACTION: 'extraction'>, 'attack_type': 'blackbox', 'defense_bestonly': 'no', 'encryption_strategy': 0, 'input_dimensions': '(28, 28, 1)', 'model_api_details': '', 'model_framework': 'tensorflow', 'normalize_data': 'yes', 'number_of_attack_queries': 200, 'number_of_classes': 10, 'task_type': <Task.IMAGE_CLASSIFICATION: 'image_classification'>, 'use_model_api': 'no', 'vulnerability_threshold': 0} \n"
          ]
        }
      ],
      "source": [
        "\"\"\"\n",
        "Description: Specify the appropriate configs required for vulnerability analysis\n",
        "\"\"\"\n",
        "\n",
        "vuln_config = ais.VulnConfig(task_type=ais.get_type(\"task\", \"image_classification\"),\n",
        "                             attack=ais.get_type(\"attack\", \"extraction\"),\n",
        "                             defense_generate=True)\n",
        "\n",
        "vuln_config.input_dimensions = input_shape  # input dimension for mnist digit classification\n",
        "vuln_config.number_of_classes = num_classes  # number of classes for mnist digit classification\n",
        "vuln_config.encryption_strategy = 0  # value 0 (or) 1, if model is unencrypted or encrypted(pyc) respectively\n",
        "print('IC-Extraction parameters are: \\n {} '.format(vuln_config.get_all_params()))"
      ]
    },
    {
      "cell_type": "code",
      "execution_count": 25,
      "id": "8c412396",
      "metadata": {
        "colab": {
          "base_uri": "https://localhost:8080/"
        },
        "id": "8c412396",
        "outputId": "3633bab0-5dd7-44e3-c428-dd8b9caa33fd"
      },
      "outputs": [
        {
          "output_type": "stream",
          "name": "stdout",
          "text": [
            "status: success. Job_id: gAAAAABjhxbRq9QMBBtDNonTEEOIJ9cCfd2OD5eNsApmuz3ba0KtzCIofYYBVXSYjDD7dL8_VtOK7kfxLDmRRvMQb_EWw7LOlw== .job_monitor_uri: https://aisdevmonitor.z23.web.core.windows.net/?type=ImageClassification&jobid=gAAAAABjhxbRq9QMBBtDNonTEEOIJ9cCfd2OD5eNsApmuz3ba0KtzCIofYYBVXSYjDD7dL8_VtOK7kfxLDmRRvMQb_EWw7LOlw%3D%3D\n"
          ]
        }
      ],
      "source": [
        "\"\"\"\n",
        "Description: Run vulnerability analysis\n",
        "\"\"\"\n",
        "my_status, job_details = client.vuln_analysis(\n",
        "    data_path=data_path,\n",
        "    label_path=label_path,\n",
        "    model_path=model_path,\n",
        "    vuln_config=vuln_config\n",
        ")\n",
        "my_job_id = job_details.job_id\n",
        "print('status: {}. Job_id: {} .job_monitor_uri: {}'.format(my_status, my_job_id, job_details.job_monitor_uri))"
      ]
    },
    {
      "cell_type": "code",
      "source": [
        "\"\"\"\n",
        "Description: Monitor progress for given Job ID using the Link below\n",
        "\"\"\"\n",
        "print('Click on the URL to view Vulnerability Dashboard (GUI): {}'.format(job_details.job_monitor_uri))"
      ],
      "metadata": {
        "colab": {
          "base_uri": "https://localhost:8080/"
        },
        "id": "dFlWdSrhwD2L",
        "outputId": "0b9f66c7-5a4f-465c-fe1a-b6a80b19ac62"
      },
      "id": "dFlWdSrhwD2L",
      "execution_count": 32,
      "outputs": [
        {
          "output_type": "stream",
          "name": "stdout",
          "text": [
            "Click on the URL to view Vulnerability Dashboard (GUI): https://aisdevmonitor.z23.web.core.windows.net/?type=ImageClassification&jobid=gAAAAABjhxbRq9QMBBtDNonTEEOIJ9cCfd2OD5eNsApmuz3ba0KtzCIofYYBVXSYjDD7dL8_VtOK7kfxLDmRRvMQb_EWw7LOlw%3D%3D\n"
          ]
        }
      ]
    },
    {
      "cell_type": "code",
      "execution_count": 26,
      "id": "d0b7705d",
      "metadata": {
        "colab": {
          "base_uri": "https://localhost:8080/"
        },
        "id": "d0b7705d",
        "outputId": "5a6168f0-3635-4730-fdca-c187a21602e7"
      },
      "outputs": [
        {
          "output_type": "stream",
          "name": "stderr",
          "text": [
            "2022-11-30 08:39:51,642 - INFO - Fetching job details for job id gAAAAABjhxbRq9QMBBtDNonTEEOIJ9cCfd2OD5eNsApmuz3ba0KtzCIofYYBVXSYjDD7dL8_VtOK7kfxLDmRRvMQb_EWw7LOlw==...\n",
            "INFO:aishield.connection:Fetching job details for job id gAAAAABjhxbRq9QMBBtDNonTEEOIJ9cCfd2OD5eNsApmuz3ba0KtzCIofYYBVXSYjDD7dL8_VtOK7kfxLDmRRvMQb_EWw7LOlw==...\n",
            "2022-11-30 08:40:15,792 - INFO - ModelExploration_Status:completed\n",
            "INFO:aishield.connection:ModelExploration_Status:completed\n",
            "2022-11-30 08:40:15,796 - INFO - SanityCheck_Status:passed\n",
            "INFO:aishield.connection:SanityCheck_Status:passed\n"
          ]
        },
        {
          "output_type": "stream",
          "name": "stdout",
          "text": [
            "running...\rrunning...\r"
          ]
        },
        {
          "output_type": "stream",
          "name": "stderr",
          "text": [
            "2022-11-30 08:41:10,061 - INFO - QueryGenerator_Status:completed\n",
            "INFO:aishield.connection:QueryGenerator_Status:completed\n"
          ]
        },
        {
          "output_type": "stream",
          "name": "stdout",
          "text": [
            "running...\r"
          ]
        },
        {
          "output_type": "stream",
          "name": "stderr",
          "text": [
            "2022-11-30 08:42:40,571 - INFO - VunerabilityEngine_Status:completed\n",
            "INFO:aishield.connection:VunerabilityEngine_Status:completed\n"
          ]
        },
        {
          "output_type": "stream",
          "name": "stdout",
          "text": [
            "running...\r"
          ]
        },
        {
          "output_type": "stream",
          "name": "stderr",
          "text": [
            "2022-11-30 08:44:16,809 - INFO - DefenseReport_Status:completed\n",
            "INFO:aishield.connection:DefenseReport_Status:completed\n",
            "2022-11-30 08:44:16,812 - INFO - job run completed\n",
            "INFO:aishield.connection:job run completed\n"
          ]
        },
        {
          "output_type": "stream",
          "name": "stdout",
          "text": [
            "running...\rjob status  success\n"
          ]
        }
      ],
      "source": [
        "\"\"\"\n",
        "Description: Fetch Job status using Job ID\n",
        "\"\"\"\n",
        "\n",
        "my_status = client.job_status (job_id = my_job_id)\n",
        "print('job status ', my_status)"
      ]
    },
    {
      "cell_type": "markdown",
      "id": "6ec9b3b1",
      "metadata": {
        "id": "6ec9b3b1"
      },
      "source": [
        "### `Saving the Artifacts and the Reports`"
      ]
    },
    {
      "cell_type": "code",
      "execution_count": 27,
      "id": "0cc53611",
      "metadata": {
        "colab": {
          "base_uri": "https://localhost:8080/"
        },
        "id": "0cc53611",
        "outputId": "7e6f506a-2545-44f6-878e-17d2b5abd157"
      },
      "outputs": [
        {
          "output_type": "stream",
          "name": "stdout",
          "text": [
            "directory /content/Output_Artifacts created successfully\n"
          ]
        }
      ],
      "source": [
        "\"\"\"\n",
        "Description: Creating a directory to save the defense artifacts\n",
        "\"\"\"\n",
        "OUTPUT_PATH = os.path.join(os.getcwd(),\"Output_Artifacts\")\n",
        "make_directory([OUTPUT_PATH])"
      ]
    },
    {
      "cell_type": "code",
      "execution_count": 28,
      "id": "70b3217d",
      "metadata": {
        "colab": {
          "base_uri": "https://localhost:8080/"
        },
        "id": "70b3217d",
        "outputId": "65c9ae5a-9d62-44d7-cd7e-7b13d7006b37"
      },
      "outputs": [
        {
          "output_type": "stream",
          "name": "stderr",
          "text": [
            "2022-11-30 08:44:53,106 - INFO - vulnerability_20221130_0844.pdf is saved in /content/Output_Artifacts\n",
            "INFO:aishield.connection:vulnerability_20221130_0844.pdf is saved in /content/Output_Artifacts\n"
          ]
        }
      ],
      "source": [
        "\"\"\"\n",
        "Description: Download the Vulnerability Report\n",
        "\"\"\"\n",
        "if my_status == \"success\":\n",
        "    output_conf = ais.OutputConf(report_type=ais.get_type(\"report\", \"vulnerability\"),\n",
        "                                 file_format=ais.get_type(\"file_format\", \"pdf\"),\n",
        "                                 save_folder_path=OUTPUT_PATH)\n",
        "        \n",
        "    my_report = client.save_job_report(job_id=my_job_id, output_config=output_conf)"
      ]
    },
    {
      "cell_type": "code",
      "execution_count": 29,
      "id": "e5df5119",
      "metadata": {
        "colab": {
          "base_uri": "https://localhost:8080/"
        },
        "id": "e5df5119",
        "outputId": "7aa9d66c-b7d1-4afb-c04a-aa963957a41a"
      },
      "outputs": [
        {
          "output_type": "stream",
          "name": "stderr",
          "text": [
            "2022-11-30 08:44:58,542 - INFO - defense_20221130_0844.pdf is saved in /content/Output_Artifacts\n",
            "INFO:aishield.connection:defense_20221130_0844.pdf is saved in /content/Output_Artifacts\n"
          ]
        }
      ],
      "source": [
        "\"\"\"\n",
        "Description: Download the Defense Reports\n",
        "\"\"\"\n",
        "if my_status == \"success\":\n",
        "    output_conf = ais.OutputConf(report_type=ais.get_type(\"report\", \"defense\"),\n",
        "                                 file_format=ais.get_type(\"file_format\", \"pdf\"),\n",
        "                                 save_folder_path=OUTPUT_PATH)\n",
        "        \n",
        "    my_report = client.save_job_report(job_id=my_job_id, output_config=output_conf)"
      ]
    },
    {
      "cell_type": "code",
      "execution_count": 30,
      "id": "63fc34de",
      "metadata": {
        "colab": {
          "base_uri": "https://localhost:8080/"
        },
        "id": "63fc34de",
        "outputId": "03c88475-5357-4eae-e10f-269a4462bab8"
      },
      "outputs": [
        {
          "output_type": "stream",
          "name": "stderr",
          "text": [
            "2022-11-30 08:45:03,601 - INFO - defense_artifact_20221130_0845.zip is saved in /content/Output_Artifacts\n",
            "INFO:aishield.connection:defense_artifact_20221130_0845.zip is saved in /content/Output_Artifacts\n"
          ]
        }
      ],
      "source": [
        "\"\"\"\n",
        "Description: Download the Defense artifacts: Model\n",
        "\"\"\"\n",
        "if my_status == \"success\":\n",
        "    output_conf = ais.OutputConf(report_type=ais.get_type(\"report\", \"defense_artifact\"),\n",
        "                                 file_format=ais.get_type(\"file_format\", \"pdf\"),\n",
        "                                 save_folder_path=OUTPUT_PATH)\n",
        "        \n",
        "    my_report = client.save_job_report(job_id=my_job_id, output_config=output_conf)"
      ]
    },
    {
      "cell_type": "code",
      "execution_count": 30,
      "id": "30e5d298",
      "metadata": {
        "id": "30e5d298"
      },
      "outputs": [],
      "source": []
    }
  ],
  "metadata": {
    "kernelspec": {
      "display_name": "Python 3 (ipykernel)",
      "language": "python",
      "name": "python3"
    },
    "language_info": {
      "codemirror_mode": {
        "name": "ipython",
        "version": 3
      },
      "file_extension": ".py",
      "mimetype": "text/x-python",
      "name": "python",
      "nbconvert_exporter": "python",
      "pygments_lexer": "ipython3",
      "version": "3.9.12"
    },
    "colab": {
      "provenance": []
    }
  },
  "nbformat": 4,
  "nbformat_minor": 5
}