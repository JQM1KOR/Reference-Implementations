{
 "cells": [
  {
   "cell_type": "markdown",
   "id": "820864de",
   "metadata": {
    "id": "820864de"
   },
   "source": [
    "# Classification Model\n",
    "* File Name: Reference_implementation of MNIST with MLFlow\n",
    "* Date of creation(dd-mm-yyyy) : 09-12-2022\n",
    "* Author Name/Dept : AIShield\n",
    "* Organization : BGSW\n",
    "* Description : Source Code of reference implementation of AIShield API\n",
    "* Copyright : Copyright 2022 Bosch Global Software Technologies Private Limited. All Rights Reserved.\n",
    "\n",
    "### Metadata\n",
    "* Dataset: MNIST\n",
    "* Size of training set:54,000\n",
    "* Size of testing set : 10,000\n",
    "* Size of validation set : 6000\n",
    "* Number of class : 10\n",
    "* Original Model: CNN\n",
    "\n",
    "### Outcomes\n",
    "* Accuracy of model: 0.99\n"
   ]
  },
  {
   "cell_type": "code",
   "execution_count": null,
   "id": "3a11a6e7",
   "metadata": {
    "id": "3a11a6e7",
    "outputId": "98ed8e24-eea2-4adb-f899-79acbbee40b5"
   },
   "outputs": [
    {
     "data": {
      "text/plain": [
       "'\\nDescription: command to install all the packages, remove comment to install all the library\\n'"
      ]
     },
     "execution_count": 1,
     "metadata": {},
     "output_type": "execute_result"
    }
   ],
   "source": [
    "\"\"\"\n",
    "Description: commands to install all the packages, remove comments to install all the libraries\n",
    "\"\"\"\n",
    "# !pip install pandas==1.1.5\n",
    "# !pip install numpy==1.22\n",
    "# !pip install matplotlib==3.3.4\n",
    "# !pip install tensorflow==2.9.3\n",
    "# !pip install scikit-learn==1.0.2\n",
    "# !pip install humanfriendly==9.2\n",
    "# !pip install tqdm==4.61.1\n",
    "# !pip install requests==2.28.0\n",
    "# !pip install opencv-python\n",
    "# !pip install mlflow==2.1.1"
   ]
  },
  {
   "cell_type": "markdown",
   "id": "8196a644",
   "metadata": {
    "id": "8196a644"
   },
   "source": [
    "# 1.0 Importing libraries"
   ]
  },
  {
   "cell_type": "code",
   "execution_count": 1,
   "id": "a253f986",
   "metadata": {
    "id": "a253f986"
   },
   "outputs": [],
   "source": [
    "\"\"\"\n",
    "Description: Import libraries\n",
    "\"\"\"\n",
    "import tensorflow as tf\n",
    "import numpy as np\n",
    "import matplotlib.pyplot as plt\n",
    "from sklearn.model_selection import train_test_split\n",
    "from sklearn import metrics\n",
    "import zipfile \n",
    "import pandas as pd\n",
    "import cv2\n",
    "import os\n",
    "import random\n",
    "import requests\n",
    "import json\n",
    "import time\n",
    "from tqdm import tqdm\n",
    "import shutil\n",
    "from humanfriendly import format_timespan\n",
    "import mlflow"
   ]
  },
  {
   "cell_type": "markdown",
   "id": "6a5573f0",
   "metadata": {
    "id": "6a5573f0"
   },
   "source": [
    "# 2.0 Data Loading and Preprocessing"
   ]
  },
  {
   "cell_type": "code",
   "execution_count": 2,
   "id": "645ec785",
   "metadata": {
    "id": "645ec785"
   },
   "outputs": [],
   "source": [
    "'''\n",
    "Description : Loading mnist dataset\n",
    "'''\n",
    "(X_train,y_train),(X_test,y_test)=tf.keras.datasets.mnist.load_data()"
   ]
  },
  {
   "cell_type": "code",
   "execution_count": 3,
   "id": "625bd8cd",
   "metadata": {
    "id": "625bd8cd"
   },
   "outputs": [],
   "source": [
    "'''\n",
    "Description : Splitting data for validation\n",
    "'''\n",
    "X_train, X_val, y_train, y_val = train_test_split(X_train,y_train,stratify = y_train,test_size = 0.1,random_state = 42)"
   ]
  },
  {
   "cell_type": "code",
   "execution_count": 4,
   "id": "01d4434a",
   "metadata": {
    "id": "01d4434a",
    "outputId": "e67fef93-5dae-4fed-9c4d-d2da4e98d081"
   },
   "outputs": [
    {
     "name": "stdout",
     "output_type": "stream",
     "text": [
      "shape of x_train:  (54000, 28, 28)\n",
      "shape of y_train: (54000,)\n",
      "shape of x_test: (10000, 28, 28)\n",
      "shape of y_test: (10000,)\n",
      "shape of x_val: (6000, 28, 28)\n",
      "shape of y_val: (6000,)\n"
     ]
    }
   ],
   "source": [
    "'''\n",
    "Description : Check size of dataset\n",
    "'''\n",
    "print(\"shape of x_train: \",X_train.shape)\n",
    "print(\"shape of y_train: {}\".format(y_train.shape))\n",
    "print(f'shape of x_test: {X_test.shape}')\n",
    "print(f'shape of y_test: {y_test.shape}')\n",
    "print(f'shape of x_val: {X_val.shape}')\n",
    "print(f'shape of y_val: {y_val.shape}')"
   ]
  },
  {
   "cell_type": "code",
   "execution_count": 5,
   "id": "aab642ca",
   "metadata": {
    "id": "aab642ca"
   },
   "outputs": [],
   "source": [
    "def plot(x, y=None, row: int = 2):\n",
    "    \"\"\"\n",
    "    to visualize random sample\n",
    "    \"\"\"\n",
    "    rows = row\n",
    "    random_indices = random.sample(range(x.shape[0]), rows * rows)\n",
    "    sample_images = x[random_indices, :]\n",
    "    if y is not None:\n",
    "        sample_labels = y[random_indices]\n",
    "\n",
    "    fig, axs = plt.subplots(nrows=rows, ncols=rows, figsize=(12, 9), sharex=True, sharey=True)\n",
    "    for i in range(rows * rows):\n",
    "        subplot_row = i // rows\n",
    "        subplot_col = i % rows\n",
    "        axs[subplot_row, subplot_col].imshow(sample_images[i, :])\n",
    "        if y is not None:\n",
    "            axs[subplot_row, subplot_col].set_title(\"Class. %d\" % sample_labels[i])\n",
    "    plt.tight_layout()\n",
    "    plt.show()"
   ]
  },
  {
   "cell_type": "code",
   "execution_count": 6,
   "id": "5b389205",
   "metadata": {
    "id": "5b389205",
    "outputId": "fc9ff589-f7d3-42c1-8e26-d409d1e784a1"
   },
   "outputs": [
    {
     "data": {
      "image/png": "[encoded data removed]",
      "text/plain": [
       "<Figure size 864x648 with 9 Axes>"
      ]
     },
     "metadata": {
      "needs_background": "light"
     },
     "output_type": "display_data"
    }
   ],
   "source": [
    "\"\"\"\n",
    "Description: visualize data\n",
    "\"\"\"\n",
    "plot(X_train, y_train, row=3)"
   ]
  },
  {
   "cell_type": "code",
   "execution_count": 7,
   "id": "a4a39311",
   "metadata": {
    "id": "a4a39311"
   },
   "outputs": [],
   "source": [
    "'''\n",
    "Description : Set num_classes and input shape \n",
    "'''\n",
    "img_row,img_col,channel=28,28,1\n",
    "num_classes=10\n",
    "input_shape=(img_row,img_col,channel)"
   ]
  },
  {
   "cell_type": "code",
   "execution_count": 8,
   "id": "b9e34e3b",
   "metadata": {
    "id": "b9e34e3b"
   },
   "outputs": [],
   "source": [
    "\"\"\"\n",
    "Description: Normalizing and reshaping the data\n",
    "\"\"\"\n",
    "X_train = X_train.reshape(-1,*input_shape)/255.0\n",
    "X_val =  X_val.reshape(-1,*input_shape)/255.0\n",
    "X_test =  X_test.reshape(-1,*input_shape)/255.0"
   ]
  },
  {
   "cell_type": "code",
   "execution_count": 9,
   "id": "40bd0b1c",
   "metadata": {
    "id": "40bd0b1c"
   },
   "outputs": [],
   "source": [
    "\"\"\"\n",
    "Description : Convert label to one hot encoder\n",
    "\"\"\"\n",
    "y_train=tf.keras.utils.to_categorical(y_train,num_classes)\n",
    "y_test=tf.keras.utils.to_categorical(y_test,num_classes)"
   ]
  },
  {
   "cell_type": "markdown",
   "id": "de7fecaf",
   "metadata": {
    "id": "de7fecaf"
   },
   "source": [
    "# 3.0 Model Development and Training"
   ]
  },
  {
   "cell_type": "code",
   "execution_count": 10,
   "id": "b5c135cb",
   "metadata": {
    "id": "b5c135cb"
   },
   "outputs": [],
   "source": [
    "def make_directory(directory):\n",
    "    \"\"\"\n",
    "    create directory\n",
    "\n",
    "    Parameters\n",
    "    ----------\n",
    "    directorys : list containing the directorys path to create \n",
    "    Returns\n",
    "    -------\n",
    "    None.\n",
    "\n",
    "    \"\"\"\n",
    "    for d in directory:\n",
    "        if os.path.isdir(d):\n",
    "            print(\"directory {} already exist\".format(d))\n",
    "        if os.path.isdir(d)==False:\n",
    "            os.mkdir(path=d)\n",
    "            print(\"directory {} created successfully\".format(d))"
   ]
  },
  {
   "cell_type": "code",
   "execution_count": 11,
   "id": "d74a31fd",
   "metadata": {
    "id": "d74a31fd"
   },
   "outputs": [],
   "source": [
    "def delete_directory(directorys):\n",
    "    \"\"\"\n",
    "    delete directory \n",
    "\n",
    "    Parameters\n",
    "    ----------\n",
    "    directorys : list containing the directorys to deleate along with all the files\n",
    "\n",
    "    Returns\n",
    "    -------\n",
    "    None.\n",
    "\n",
    "    \"\"\"\n",
    "    if len(directorys)>=1:\n",
    "        for d in directorys:\n",
    "            if os.path.isdir(d):\n",
    "                try:\n",
    "                    if os.path.isfile(d):\n",
    "                        os.remove(path=d)\n",
    "                    else:\n",
    "                        shutil.rmtree(path=d)\n",
    "                        print(\"Removed: {}\".format(d))\n",
    "                except:\n",
    "                    print(\"Failed to removed: {}\".format(d))\n",
    "                "
   ]
  },
  {
   "cell_type": "code",
   "execution_count": 12,
   "id": "00b9df5d",
   "metadata": {
    "id": "00b9df5d"
   },
   "outputs": [],
   "source": [
    "def make_archive(base_name,root_dir,zip_format='zip'):\n",
    "    \"\"\"\n",
    "    created zip for given folder\n",
    "\n",
    "    Parameters\n",
    "    ----------\n",
    "    base_name : name of zip file\n",
    "    root_dir : directory to archive/zip\n",
    "    zip_format : zip or tar \n",
    "        DESCRIPTION. The default is 'zip'.\n",
    "\n",
    "    Returns\n",
    "    -------\n",
    "    None.\n",
    "\n",
    "    \"\"\"\n",
    "    shutil.make_archive(base_name=base_name, format=zip_format, root_dir=root_dir)\n",
    "    "
   ]
  },
  {
   "cell_type": "code",
   "execution_count": 13,
   "id": "eb56ecfd",
   "metadata": {
    "id": "eb56ecfd"
   },
   "outputs": [],
   "source": [
    "def get_file_path(path):\n",
    "    \"\"\"\n",
    "    To get full file path from directory and child directory\n",
    "    Args:\n",
    "        path: Directory path\n",
    "\n",
    "    Returns: list containing full path of all the file from the given directory\n",
    "\n",
    "    \"\"\"\n",
    "    list_id = []\n",
    "    for (root, dirs, files) in os.walk(path, topdown=True):\n",
    "        if len(dirs) == 0:\n",
    "            for file in files:\n",
    "                list_id.append(os.path.join(root, file))\n",
    "    return list_id"
   ]
  },
  {
   "cell_type": "code",
   "execution_count": 76,
   "id": "cf995990",
   "metadata": {
    "id": "cf995990"
   },
   "outputs": [],
   "source": [
    "\"\"\"\n",
    "Description : Create data, model and label folder\n",
    "\"\"\"\n",
    "mnist_data_path = os.path.join(os.getcwd(), \"data\")\n",
    "mnist_model_path = os.path.join(os.getcwd(), \"model\")\n",
    "mnist_label_path = os.path.join(os.getcwd(), \"label\")\n",
    "zip_path = os.path.join(os.getcwd(), \"zip\")\n",
    "pyc_model_path = os.path.join(os.getcwd(), \"pyc_model\")\n",
    "report_path = os.path.join(os.getcwd(), \"reports\")\n",
    "sample_data = os.path.join(report_path, \"sample_data\")\n",
    "defense_artifact = os.path.join(report_path, \"defense_artifact\")\n",
    "# deleting folder\n",
    "delete_directory(\n",
    "    directorys=[mnist_data_path, mnist_model_path, mnist_label_path, zip_path, pyc_model_path, report_path])\n",
    "\n",
    "# creating folder\n",
    "make_directory([mnist_data_path, mnist_model_path, mnist_label_path, zip_path, pyc_model_path, report_path, sample_data,\n",
    "                defense_artifact])"
   ]
  },
  {
   "cell_type": "code",
   "execution_count": 15,
   "id": "bac30109",
   "metadata": {
    "id": "bac30109"
   },
   "outputs": [],
   "source": [
    "def cnn_model(input_shape=input_shape, num_classes=num_classes):\n",
    "    \"\"\"\n",
    "    Description: Create model architecture\n",
    "    \"\"\"\n",
    "    model = tf.keras.Sequential([\n",
    "        tf.keras.layers.Conv2D(32, (5,5), padding='same', activation='relu', input_shape=input_shape),\n",
    "        tf.keras.layers.Conv2D(32, (5,5), padding='same', activation='relu'),\n",
    "        tf.keras.layers.MaxPool2D(),\n",
    "        tf.keras.layers.Dropout(0.25),\n",
    "        tf.keras.layers.Conv2D(64, (3,3), padding='same', activation='relu'),\n",
    "        tf.keras.layers.Conv2D(64, (3,3), padding='same', activation='relu'),\n",
    "        tf.keras.layers.MaxPool2D(strides=(2,2)),\n",
    "        tf.keras.layers.Dropout(0.25),\n",
    "        tf.keras.layers.Flatten(),\n",
    "        tf.keras.layers.Dense(128, activation='relu'),\n",
    "        tf.keras.layers.Dropout(0.5),\n",
    "        tf.keras.layers.Dense(num_classes, activation='softmax')  \n",
    "    ])\n",
    "    #Compile model\n",
    "    model.compile(optimizer=tf.keras.optimizers.Adam(learning_rate=1e-3), loss = 'categorical_crossentropy', metrics=['accuracy'])\n",
    "    return model"
   ]
  },
  {
   "cell_type": "code",
   "execution_count": 16,
   "id": "3d99d336",
   "metadata": {
    "id": "3d99d336"
   },
   "outputs": [],
   "source": [
    "\"\"\"\n",
    "Description: train model\n",
    "\"\"\"\n",
    "def train_model(model,X_train, y_train, X_test, y_test,batch_size=16,epochs=5,filename='mnist_model'):\n",
    "    '''\n",
    "    Description:Training  model\n",
    "    Args:\n",
    "        model:model to train \n",
    "        X_train: X_train for training \n",
    "        X_test: for validation\n",
    "        y_train: label for X_train\n",
    "        y_test: label for X_test\n",
    "        batch_size: batch size for training model\n",
    "        epochs: number of epochs to train model \n",
    "        filename : name to save extracted model\n",
    "    '''    \n",
    "    # Callbacks\n",
    "    checkpoint=tf.keras.callbacks.ModelCheckpoint(filepath=filename+'.h5',monitor='val_loss',verbose=1,save_best_only=True,mode='auto')\n",
    "    ES=tf.keras.callbacks.EarlyStopping(monitor='val_loss',min_delta=0,patience=5,mode='min',restore_best_weights=True)\n",
    "    \n",
    "    #train and record time for training\n",
    "    start_time=time.time()\n",
    "    history=model.fit(X_train,y_train,epochs=epochs,batch_size=batch_size,verbose=1, callbacks=[ES,checkpoint],validation_data=(X_test,y_test))#tensorboard_callback,,validation_split=0.05\n",
    "    elapsed_time = time.time() - start_time\n",
    "    \n",
    "    print(\"Elapsed time: {}\".format(format_timespan(elapsed_time)))\n",
    "    \n",
    "    return model,history"
   ]
  },
  {
   "cell_type": "code",
   "execution_count": 17,
   "id": "2f6f107c",
   "metadata": {
    "id": "2f6f107c"
   },
   "outputs": [],
   "source": [
    "def Plot_model_training_parameters(training_history):\n",
    "    \"\"\"\n",
    "    Description : plot model to visualize model training \n",
    "    \n",
    "    Args:\n",
    "        training_history: history from which model training parameter can be taken for plotting \n",
    "    \"\"\"\n",
    "    loss=training_history.history['loss']\n",
    "    accuracy=training_history.history['accuracy']\n",
    "    val_loss=training_history.history['val_loss']\n",
    "    val_accuracy=training_history.history['val_accuracy']\n",
    "    epochs_range=np.arange(1,len(loss)+1)\n",
    "    \n",
    "    plt.figure(figsize=(12,6))\n",
    "    plt.subplot(1,2,1)\n",
    "    plt.plot(epochs_range,loss,label=\"Training Loss\")\n",
    "    plt.plot(epochs_range,val_loss,label=\"Validation Loss\")\n",
    "    plt.title(\"Training loss \")\n",
    "    plt.xlabel('Epochs',fontsize=16,fontweight='bold')\n",
    "    plt.ylabel(\"Loss\",fontsize=16,fontweight='bold')\n",
    "    plt.legend()\n",
    "    plt.subplot(1,2,2)\n",
    "    plt.plot(epochs_range,accuracy,label=\"Training Accuracy\")\n",
    "    plt.plot(epochs_range,val_accuracy,label=\"Validation Accuracy\")\n",
    "    plt.title(\"Training accuracy\")\n",
    "    plt.xlabel('Epochs',fontsize=16,fontweight='bold')\n",
    "    plt.ylabel(\"Accuracy\",fontsize=16,fontweight='bold')\n",
    "    plt.legend()\n",
    "    plt.show()"
   ]
  },
  {
   "cell_type": "code",
   "execution_count": 18,
   "id": "d3f5e7bd",
   "metadata": {
    "id": "d3f5e7bd"
   },
   "outputs": [],
   "source": [
    "\"\"\"\n",
    "Description : Created architecture of the model\n",
    "\"\"\"\n",
    "model=cnn_model()"
   ]
  },
  {
   "cell_type": "code",
   "execution_count": 19,
   "id": "7ce06eb9",
   "metadata": {
    "id": "7ce06eb9",
    "outputId": "31851f26-168d-4a38-d4a8-4b05fcacd2cc"
   },
   "outputs": [
    {
     "name": "stdout",
     "output_type": "stream",
     "text": [
      "Model: \"sequential\"\n",
      "_________________________________________________________________\n",
      " Layer (type)                Output Shape              Param #   \n",
      "=================================================================\n",
      " conv2d (Conv2D)             (None, 28, 28, 32)        832       \n",
      "                                                                 \n",
      " conv2d_1 (Conv2D)           (None, 28, 28, 32)        25632     \n",
      "                                                                 \n",
      " max_pooling2d (MaxPooling2D  (None, 14, 14, 32)       0         \n",
      " )                                                               \n",
      "                                                                 \n",
      " dropout (Dropout)           (None, 14, 14, 32)        0         \n",
      "                                                                 \n",
      " conv2d_2 (Conv2D)           (None, 14, 14, 64)        18496     \n",
      "                                                                 \n",
      " conv2d_3 (Conv2D)           (None, 14, 14, 64)        36928     \n",
      "                                                                 \n",
      " max_pooling2d_1 (MaxPooling  (None, 7, 7, 64)         0         \n",
      " 2D)                                                             \n",
      "                                                                 \n",
      " dropout_1 (Dropout)         (None, 7, 7, 64)          0         \n",
      "                                                                 \n",
      " flatten (Flatten)           (None, 3136)              0         \n",
      "                                                                 \n",
      " dense (Dense)               (None, 128)               401536    \n",
      "                                                                 \n",
      " dropout_2 (Dropout)         (None, 128)               0         \n",
      "                                                                 \n",
      " dense_1 (Dense)             (None, 10)                1290      \n",
      "                                                                 \n",
      "=================================================================\n",
      "Total params: 484,714\n",
      "Trainable params: 484,714\n",
      "Non-trainable params: 0\n",
      "_________________________________________________________________\n"
     ]
    }
   ],
   "source": [
    "\"\"\"\n",
    "Description : Get model summary\n",
    "\"\"\"\n",
    "model.summary()"
   ]
  },
  {
   "cell_type": "code",
   "execution_count": null,
   "id": "bcad6a5c",
   "metadata": {},
   "outputs": [],
   "source": [
    "\"\"\"\n",
    "Description: integrating mlflow for auto logging \n",
    "\"\"\"\n",
    "with mlflow.start_run():\n",
    "    # Enable auto-logging to MLflow to capture TensorBoard metrics.\n",
    "    mlflow.tensorflow.autolog()\n",
    "    run_id=mlflow.active_run().info.run_id\n",
    "    print(\"Active run id is : {}\".format(run_id))\n",
    "    model,history=train_model(model,X_train, y_train, X_test, y_test,batch_size=32,epochs=20,filename='mnist_model')\n",
    "    \n",
    "    # get trained model path\n",
    "    artifact_path=mlflow.get_artifact_uri('model')"
   ]
  },
  {
   "cell_type": "code",
   "execution_count": 21,
   "id": "315f6abd",
   "metadata": {
    "id": "315f6abd",
    "outputId": "4319438d-6f1d-4612-e99d-87da7bd1ff0a"
   },
   "outputs": [
    {
     "name": "stdout",
     "output_type": "stream",
     "text": [
      "188/188 [==============================] - 1s 6ms/step\n"
     ]
    }
   ],
   "source": [
    "\"\"\"\n",
    "Description: Get prediction on validation data\n",
    "\"\"\"\n",
    "pred=model.predict(X_val)"
   ]
  },
  {
   "cell_type": "code",
   "execution_count": 22,
   "id": "4bbc8b99",
   "metadata": {
    "id": "4bbc8b99",
    "outputId": "40e1634e-c0b7-4634-e489-6de8c022998e"
   },
   "outputs": [
    {
     "data": {
      "text/plain": [
       "array([1, 9, 3, 4, 6, 5, 0, 8, 5, 1], dtype=int64)"
      ]
     },
     "execution_count": 22,
     "metadata": {},
     "output_type": "execute_result"
    }
   ],
   "source": [
    "\"\"\"\n",
    "Description: Convert prediction from probability to label\n",
    "\"\"\"\n",
    "y_pred = np.argmax(pred,axis=-1)\n",
    "y_pred[:10]"
   ]
  },
  {
   "cell_type": "code",
   "execution_count": 23,
   "id": "c97b2e0e",
   "metadata": {
    "id": "c97b2e0e",
    "outputId": "807277e6-266a-469c-f7ec-8dbae0dac32a"
   },
   "outputs": [
    {
     "name": "stdout",
     "output_type": "stream",
     "text": [
      "Accuracy is : 0.9903333333333333\n"
     ]
    }
   ],
   "source": [
    "\"\"\"\n",
    "Description: Calculate Accuracy\n",
    "\"\"\"\n",
    "acc=metrics.accuracy_score(y_true=y_val,y_pred=y_pred)\n",
    "print(\"Accuracy is : {}\".format(acc))"
   ]
  },
  {
   "cell_type": "code",
   "execution_count": 24,
   "id": "77a58f28",
   "metadata": {
    "id": "77a58f28",
    "outputId": "0f9a3904-61fd-481c-e887-4e79f2ee88ad"
   },
   "outputs": [
    {
     "name": "stdout",
     "output_type": "stream",
     "text": [
      "              precision    recall  f1-score   support\n",
      "\n",
      "           0       0.99      0.99      0.99       592\n",
      "           1       1.00      1.00      1.00       674\n",
      "           2       0.99      0.99      0.99       596\n",
      "           3       1.00      0.99      0.99       613\n",
      "           4       0.99      0.98      0.99       584\n",
      "           5       0.99      0.99      0.99       542\n",
      "           6       0.99      0.99      0.99       592\n",
      "           7       0.99      0.99      0.99       627\n",
      "           8       0.98      0.99      0.99       585\n",
      "           9       0.98      0.98      0.98       595\n",
      "\n",
      "    accuracy                           0.99      6000\n",
      "   macro avg       0.99      0.99      0.99      6000\n",
      "weighted avg       0.99      0.99      0.99      6000\n",
      "\n"
     ]
    }
   ],
   "source": [
    "\"\"\"\n",
    "Description: Calculate classification report\n",
    "\"\"\"\n",
    "print(metrics.classification_report(y_val, y_pred))"
   ]
  },
  {
   "cell_type": "code",
   "execution_count": 25,
   "id": "531f0347",
   "metadata": {
    "id": "531f0347",
    "outputId": "8dfad908-eb1e-498f-af10-468a1d0b6868"
   },
   "outputs": [
    {
     "data": {
      "image/png": "[encoded data removed]",
      "text/plain": [
       "<Figure size 864x432 with 2 Axes>"
      ]
     },
     "metadata": {
      "needs_background": "light"
     },
     "output_type": "display_data"
    }
   ],
   "source": [
    "\"\"\"\n",
    "Description: Plot model learning \n",
    "\"\"\"\n",
    "Plot_model_training_parameters(history)"
   ]
  },
  {
   "cell_type": "markdown",
   "id": "7f8fb2de",
   "metadata": {
    "id": "7f8fb2de"
   },
   "source": [
    "# 4.0 Prepare Data , Model and Label"
   ]
  },
  {
   "cell_type": "code",
   "execution_count": 26,
   "id": "71eb7c3f",
   "metadata": {
    "id": "71eb7c3f"
   },
   "outputs": [],
   "source": [
    "\"\"\"\n",
    "Description: Get logged model path from MLflow\n",
    "\"\"\"\n",
    "logged_model_path=artifact_path[8:]"
   ]
  },
  {
   "cell_type": "code",
   "execution_count": 27,
   "id": "03363c66",
   "metadata": {
    "id": "03363c66"
   },
   "outputs": [],
   "source": [
    "\"\"\"\n",
    "Description: Navigate to tensorflow saved format model\n",
    "\"\"\"\n",
    "model_path=os.path.join(logged_model_path,'data','model')"
   ]
  },
  {
   "cell_type": "code",
   "execution_count": 28,
   "id": "86934756",
   "metadata": {
    "id": "86934756"
   },
   "outputs": [],
   "source": [
    "\"\"\"\n",
    "Description: Load the mlflow flavour model and save again in keras HDF5 format(using working Tensorflow version) \n",
    "        to avoid running into issues in version mismatch between mlflow and newest tensorflow versions(>=2.6)\n",
    "\"\"\"\n",
    "mdl = tf.keras.models.load_model(model_path)\n",
    "mdl.save(os.path.join(mnist_model_path,'mnist_model.h5'))"
   ]
  },
  {
   "cell_type": "code",
   "execution_count": 29,
   "id": "3212494b",
   "metadata": {
    "id": "3212494b"
   },
   "outputs": [],
   "source": [
    "def save_data_label(x, y, n, data_path=mnist_data_path, label_path = mnist_label_path):\n",
    "    \"\"\"\n",
    "    x: data\n",
    "    y: label\n",
    "    n: number of sample to save\n",
    "    data_path= path to save data\n",
    "    label_path = path to save label path\n",
    "    \"\"\"\n",
    "    if len(y.shape)==2:\n",
    "        y = np.argmax(y, axis=-1)\n",
    " \n",
    "    label=pd.DataFrame()\n",
    "    img_name = []\n",
    "    img_label = [] \n",
    "\n",
    "    for i in tqdm(range(n)):\n",
    "        cv2.imwrite(os.path.join(data_path,str(i)+\".jpg\") ,x[i]*255.0) # don't use plt.imread otheriwse while loading the saved images , and passing to model there is accuarcy drop \n",
    "        img_name.append(str(i)+\".jpg\")\n",
    "        img_label.append(y[i])\n",
    "    label['image'] = img_name\n",
    "    label[\"label\"] = img_label\n",
    "\n",
    "    # write orig_label dataframe\n",
    "    label.to_csv(os.path.join(label_path,\"label.csv\"),index=False)"
   ]
  },
  {
   "cell_type": "code",
   "execution_count": 30,
   "id": "d56ba5c8",
   "metadata": {
    "id": "d56ba5c8",
    "outputId": "28690e8b-fe4f-4ce9-f19d-2992fbd565dc"
   },
   "outputs": [
    {
     "name": "stderr",
     "output_type": "stream",
     "text": [
      "100%|█████████████████████████████████████████████████████████████████████████████| 6000/6000 [00:17<00:00, 346.86it/s]\n"
     ]
    }
   ],
   "source": [
    "\"\"\"\n",
    "Description: save sample of data and label\n",
    "\"\"\"\n",
    "save_data_label(x = X_val, y= y_val, n=X_val.shape[0], data_path=mnist_data_path, label_path = mnist_label_path)"
   ]
  },
  {
   "cell_type": "code",
   "execution_count": 31,
   "id": "8ec14823",
   "metadata": {
    "id": "8ec14823"
   },
   "outputs": [],
   "source": [
    "\"\"\"\n",
    "Description: Zip data\n",
    "\"\"\"\n",
    "make_archive(base_name=os.path.join(zip_path,\"data\"),root_dir=mnist_data_path,zip_format='zip')"
   ]
  },
  {
   "cell_type": "code",
   "execution_count": 32,
   "id": "4997fb3b",
   "metadata": {
    "id": "4997fb3b"
   },
   "outputs": [],
   "source": [
    "\"\"\"\n",
    "Description: Zip label\n",
    "\"\"\"\n",
    "make_archive(base_name=os.path.join(zip_path,\"label\"),root_dir=mnist_label_path,zip_format='zip')"
   ]
  },
  {
   "cell_type": "code",
   "execution_count": 33,
   "id": "4c228600",
   "metadata": {
    "id": "4c228600"
   },
   "outputs": [],
   "source": [
    "\"\"\"\n",
    "Description: save weight of model\n",
    "\"\"\"\n",
    "model.save_weights(os.path.join(pyc_model_path,\"model_weight.h5\"))"
   ]
  },
  {
   "cell_type": "code",
   "execution_count": 34,
   "id": "a1e3ccaf",
   "metadata": {
    "id": "a1e3ccaf"
   },
   "outputs": [],
   "source": [
    "python_code='''\n",
    "#import library\n",
    "import numpy as np\n",
    "import tensorflow as tf\n",
    "\n",
    "#define class\n",
    "class BaseModel():\n",
    "    \"\"\"\n",
    "    class for base model\n",
    "    \"\"\"\n",
    "    def __init__(self,input_shape=(28,28,1),num_classes=10,model_weight_path=\"model_weight.h5\"):\n",
    "        \"\"\"\n",
    "        constructor for class\n",
    "\n",
    "        Parameters\n",
    "        ----------\n",
    "        input_shape : TYPE, optional\n",
    "            DESCRIPTION. The default is (28,28,1).\n",
    "        num_classes : TYPE, optional\n",
    "            DESCRIPTION. The default is 10.\n",
    "        model_weight_path : string, optional\n",
    "            DESCRIPTION. the relative path to model weight\n",
    "\n",
    "        Returns\n",
    "        -------\n",
    "        None.\n",
    "\n",
    "        \"\"\"\n",
    "        self.input_shape=input_shape\n",
    "        self.num_classes=num_classes\n",
    "        self.model_weight_path=model_weight_path\n",
    "        \n",
    "\n",
    "    def cnn_model(self,input_shape,num_classes):\n",
    "        \"\"\"\n",
    "        model architecture\n",
    "\n",
    "        Parameters\n",
    "        ----------\n",
    "        input_shape : string\n",
    "            DESCRIPTION.input_shape for model e.g (28,28,1)\n",
    "        num_classes : string\n",
    "            DESCRIPTION.number of class e.g 10\n",
    "\n",
    "        Returns\n",
    "        -------\n",
    "        model : model\n",
    "            DESCRIPTION.\n",
    "\n",
    "        \"\"\"\n",
    "        #create sequential model\n",
    "\n",
    "        model = tf.keras.Sequential([\n",
    "            tf.keras.layers.Conv2D(32, (5,5), padding='same', activation='relu', input_shape=input_shape),\n",
    "            tf.keras.layers.Conv2D(32, (5,5), padding='same', activation='relu'),\n",
    "            tf.keras.layers.MaxPool2D(),\n",
    "            tf.keras.layers.Dropout(0.25),\n",
    "            tf.keras.layers.Conv2D(64, (3,3), padding='same', activation='relu'),\n",
    "            tf.keras.layers.Conv2D(64, (3,3), padding='same', activation='relu'),\n",
    "            tf.keras.layers.MaxPool2D(strides=(2,2)),\n",
    "            tf.keras.layers.Dropout(0.25),\n",
    "            tf.keras.layers.Flatten(),\n",
    "            tf.keras.layers.Dense(128, activation='relu'),\n",
    "            tf.keras.layers.Dropout(0.5),\n",
    "            tf.keras.layers.Dense(num_classes, activation='softmax')   # used softmax , so set from_logits = False in cross entropy loss\n",
    "        ])\n",
    "\n",
    "        \n",
    "        return model\n",
    "    \n",
    "    def predict(self,X):\n",
    "        \"\"\"\n",
    "        predict for given data\n",
    "\n",
    "        Parameters\n",
    "        ----------\n",
    "        X : numpy array \n",
    "            DESCRIPTION.\n",
    "\n",
    "        Returns\n",
    "        -------\n",
    "        pred : numpy array\n",
    "            DESCRIPTION.\n",
    "\n",
    "        \"\"\"\n",
    "        model=self.cnn_model(input_shape=self.input_shape,num_classes=self.num_classes)\n",
    "        model.load_weights(self.model_weight_path)\n",
    "        \n",
    "        pred=np.argmax(model.predict(X),axis=-1)\n",
    "        return pred '''"
   ]
  },
  {
   "cell_type": "code",
   "execution_count": 35,
   "id": "a8876de8",
   "metadata": {
    "id": "a8876de8"
   },
   "outputs": [],
   "source": [
    "\"\"\"\n",
    "Description: write model architecute to base_model.py file\n",
    "\"\"\"\n",
    "with open(\"base_model.py\", \"w\") as file:\n",
    "    file.writelines(python_code)"
   ]
  },
  {
   "cell_type": "code",
   "execution_count": 75,
   "id": "a74f5b95",
   "metadata": {
    "id": "a74f5b95"
   },
   "outputs": [
    {
     "data": {
      "text/plain": [
       "'\\nDescription: function to create .pyc file\\n'"
      ]
     },
     "execution_count": 75,
     "metadata": {},
     "output_type": "execute_result"
    }
   ],
   "source": [
    "\"\"\"\n",
    "Description: function to create .pyc file\n",
    "\"\"\"\n",
    "import py_compile\n",
    "py_compile.compile(file='base_model.py',cfile=os.path.join(pyc_model_path,'base_model.pyc'))"
   ]
  },
  {
   "cell_type": "markdown",
   "id": "3a101517",
   "metadata": {
    "id": "3a101517"
   },
   "source": [
    "* .pyc file with name base_model.pyc will get created\n",
    "* delete .py file and still import and other function will work\n",
    "* while AIShield API call , inplace of model.h5 file you can zip .pyc and model weight which will provide security to internal architecture"
   ]
  },
  {
   "cell_type": "code",
   "execution_count": 37,
   "id": "3081ddc2",
   "metadata": {
    "id": "3081ddc2",
    "scrolled": true
   },
   "outputs": [],
   "source": [
    "\"\"\"\n",
    "Description: check import from .pyc file\n",
    "\"\"\"\n",
    "from pyc_model.base_model import BaseModel\n",
    "base_model=BaseModel(model_weight_path=r\"pyc_model/model_weight.h5\")"
   ]
  },
  {
   "cell_type": "code",
   "execution_count": 38,
   "id": "dc0b9298",
   "metadata": {
    "id": "dc0b9298",
    "outputId": "a7908a39-984b-402f-f001-74b69f97f097"
   },
   "outputs": [
    {
     "name": "stdout",
     "output_type": "stream",
     "text": [
      "1/1 [==============================] - 1s 503ms/step\n",
      "[1]\n"
     ]
    },
    {
     "data": {
      "text/plain": [
       "<matplotlib.image.AxesImage at 0x159b78e8c40>"
      ]
     },
     "execution_count": 38,
     "metadata": {},
     "output_type": "execute_result"
    },
    {
     "data": {
      "image/png": "[encoded data removed]",
      "text/plain": [
       "<Figure size 432x288 with 1 Axes>"
      ]
     },
     "metadata": {
      "needs_background": "light"
     },
     "output_type": "display_data"
    }
   ],
   "source": [
    "\"\"\"\n",
    "Description : getting prediction from function imported from .pyc file\n",
    "\"\"\"\n",
    "print(base_model.predict(X_val[:1]))\n",
    "plt.imshow(X_val[0])"
   ]
  },
  {
   "cell_type": "code",
   "execution_count": 39,
   "id": "7663c104",
   "metadata": {
    "id": "7663c104"
   },
   "outputs": [],
   "source": [
    "\"\"\"\n",
    "Description: Zip model\n",
    "\"\"\"\n",
    "model_encryption=0 #  0 if model is uploaded directly as a zip, 1 if model is encryted as .pyc and uploaded as a zip\n",
    "if os.path.isfile(os.path.join(zip_path,\"model.zip\")):\n",
    "    delete_directory(directorys=[os.path.join(zip_path,\"model.zip\")])\n",
    "if model_encryption:\n",
    "    make_archive(base_name=os.path.join(zip_path,\"model\"),root_dir=pyc_model_path,zip_format='zip')\n",
    "else:\n",
    "    make_archive(base_name=os.path.join(zip_path,\"model\"),root_dir=model_path,zip_format='zip')"
   ]
  },
  {
   "cell_type": "markdown",
   "id": "6003304c",
   "metadata": {
    "id": "6003304c"
   },
   "source": [
    "# 5.0 AIShield API Call"
   ]
  },
  {
   "cell_type": "code",
   "execution_count": 74,
   "id": "d32eb64d",
   "metadata": {
    "id": "d32eb64d"
   },
   "outputs": [],
   "source": [
    "\"\"\"\n",
    "Description: AIShield API URL and subscription key\n",
    "\"\"\" \n",
    "url=\"XXXXXXXXXXXXXXXXXXXXXXXXXXXXXXXXXXXXXXXXXXXXXXXXXXXXXXXXXXXXXXXXXXXXXXXX\"\n",
    "headers={'Cache-Control': 'no-cache',\n",
    "                'Org-Id': 'XXXXXXXXXXXXXXXXXXXXXXXXXXXXXXXXXXXXXXXXXXXXXXXXXx',\n",
    "                'x-api-key': \"XXXXXXXXXXXXXXXXXXXXXXXXXXXXXXXXXXXXXXXXXXXXXXXX\"\n",
    "                }"
   ]
  },
  {
   "cell_type": "markdown",
   "id": "509c80ff",
   "metadata": {
    "id": "509c80ff"
   },
   "source": [
    "### 5.1 Model Registration"
   ]
  },
  {
   "cell_type": "code",
   "execution_count": 46,
   "id": "4b3b4482",
   "metadata": {
    "id": "4b3b4482",
    "outputId": "010af2ed-73d4-4948-806e-968fd6322fe7"
   },
   "outputs": [
    {
     "name": "stdout",
     "output_type": "stream",
     "text": [
      "model_id:  8b25c4ca-7cec-4ec6-9177-d299b79bc8a8\n"
     ]
    }
   ],
   "source": [
    "\"\"\"\n",
    "Description: call Model registration api to get unique model it and url to upload data, model and label\n",
    "\"\"\"\n",
    "model_registration_url = url + \"/model_registration/upload\"\n",
    "model_registration_payload = {\n",
    "    'task_type':\"IC\",\n",
    "    \"analysis_type\": \"MEA\"\n",
    "}\n",
    "new_request = requests.request(method=\"POST\", url=model_registration_url, headers=headers, json=model_registration_payload)\n",
    "new_request = json.loads(new_request.text)\n",
    "model_id = new_request['data']['model_id']\n",
    "data_upload_url = new_request['data']['urls']['data_upload_url']\n",
    "label_upload_url = new_request['data']['urls']['label_upload_url']\n",
    "model_upload_url = new_request['data']['urls']['model_upload_url']\n",
    "print('model_id: ', model_id)"
   ]
  },
  {
   "cell_type": "code",
   "execution_count": 47,
   "id": "6ff748b8",
   "metadata": {
    "id": "6ff748b8"
   },
   "outputs": [],
   "source": [
    "\"\"\"\n",
    "Description: Files path\n",
    "\"\"\"\n",
    "data_path=os.path.join(zip_path,'data.zip')  # full path of data zip\n",
    "label_path=os.path.join(zip_path,'label.zip') # full path of label zip\n",
    "model_path=os.path.join(zip_path,'model.zip') # full path of model zip"
   ]
  },
  {
   "cell_type": "code",
   "execution_count": 48,
   "id": "50e620cf",
   "metadata": {
    "id": "50e620cf"
   },
   "outputs": [],
   "source": [
    "def upload_file(url, file_path):\n",
    "    \"\"\"\n",
    "    url: URL to upload\n",
    "    file_path: file to be uploaded\n",
    "    \"\"\"\n",
    "    new_request = requests.request(method=\"PUT\", url=url, data=open(file_path,'rb'))\n",
    "    status_cd = new_request.status_code\n",
    "    if status_cd == 200:\n",
    "        status = 'upload sucessful'\n",
    "    else:\n",
    "        status = 'upload failed'\n",
    "    return status"
   ]
  },
  {
   "cell_type": "code",
   "execution_count": 49,
   "id": "7b5eb169",
   "metadata": {
    "id": "7b5eb169",
    "outputId": "6065f221-5c09-4ccc-9a45-232cec8a19e4"
   },
   "outputs": [
    {
     "name": "stdout",
     "output_type": "stream",
     "text": [
      "data_upload_status:  upload sucessful\n",
      "label_upload_status:  upload sucessful\n",
      "model_upload_status:  upload sucessful\n"
     ]
    }
   ],
   "source": [
    "\"\"\"\n",
    "Description: Hit AIShield File Upload API\n",
    "\"\"\"\n",
    "data_upload_status = upload_file(data_upload_url, data_path)\n",
    "label_upload_status = upload_file(label_upload_url, label_path)\n",
    "model_upload_status = upload_file(model_upload_url, model_path)\n",
    "\n",
    "print('data_upload_status: ', data_upload_status)\n",
    "print('label_upload_status: ', label_upload_status)\n",
    "print('model_upload_status: ', model_upload_status)"
   ]
  },
  {
   "cell_type": "markdown",
   "id": "d33f769d",
   "metadata": {
    "id": "d33f769d"
   },
   "source": [
    "### 5.2 Model Analysis"
   ]
  },
  {
   "cell_type": "code",
   "execution_count": 50,
   "id": "4ea6651a",
   "metadata": {
    "id": "4ea6651a"
   },
   "outputs": [],
   "source": [
    "\"\"\"\n",
    "Description: Payload for AIShield VulnerabilityReport api call\n",
    "\"\"\"\n",
    "payload={}\n",
    "payload['model_id']=model_id\n",
    "payload['input_dimensions']=str(input_shape)\n",
    "payload['number_of_classes']=str(num_classes)\n",
    "payload['attack_type']=\"blackbox\"  \n",
    "payload['number_of_attack_queries']=60000\n",
    "payload['model_framework']='tensorflow'\n",
    "payload['vulnerability_threshold']=\"0\"\n",
    "payload['normalize_data']=\"yes\"\n",
    "payload['defense_bestonly']=\"no\"\n",
    "payload['encryption_strategy']= model_encryption\n",
    "payload['model_api_details']=\"no\"\n",
    "payload['use_model_api'] = \"no\""
   ]
  },
  {
   "cell_type": "code",
   "execution_count": 2,
   "id": "f0961983",
   "metadata": {},
   "outputs": [
    {
     "name": "stdout",
     "output_type": "stream",
     "text": [
      "* attack_type : Blackbox\n",
      "* defense_bestonly : no\n",
      "* encryption_strategy : 0\n",
      "* input_dimensions : (28, 28, 1)\n",
      "* job_id : xxxxxxxxxxxxxxxxxxxxxxxx\n",
      "* model_framework : Tensorflow\n",
      "* monitor_link : https://xxxxxxx/xxxxxxxxxxxx\n",
      "* normalize_data : yes\n",
      "* number_of_attack_queries : 100000\n",
      "* number_of_classes : 10\n",
      "* use_model_api : no\n",
      "* vulnerability_threshold : 0\n"
     ]
    }
   ],
   "source": [
    "\"\"\"\n",
    "Description: Hit AIShield VulnerabilityReport api\n",
    "\"\"\"\n",
    "model_analysis_url = url + \"/model_analyse/{}\".format(model_id)\n",
    "if data_upload_status == \"upload sucessful\" and model_upload_status == \"upload sucessful\" and label_upload_status == \"upload sucessful\":\n",
    "    new_request = requests.request(method=\"POST\", url=model_analysis_url, json=payload,headers=headers)\n",
    "    new_request=json.loads(new_request.text)\n",
    "    for k, v in new_request.items():\n",
    "        print(\"* {} : {}\".format(k,v))\n",
    "        "
   ]
  },
  {
   "cell_type": "code",
   "execution_count": 73,
   "id": "3effce6d",
   "metadata": {},
   "outputs": [
    {
     "name": "stdout",
     "output_type": "stream",
     "text": [
      "Job id : XXXXXXXXXXXXXXXXXXXXXXXXXXXXXXXXXXXXXXXXXXXXXXXXXXXXXX\n"
     ]
    }
   ],
   "source": [
    "\"\"\"\n",
    "Description: Get job id from api response\n",
    "\"\"\"\n",
    "job_id=new_request['job_id']\n",
    "print(f\"Job id : {job_id}\")"
   ]
  },
  {
   "cell_type": "code",
   "execution_count": 53,
   "id": "e7670149",
   "metadata": {
    "id": "e7670149"
   },
   "outputs": [],
   "source": [
    "def monitor_api_progress(new_job_id):\n",
    "        job_status_url = url + \"/job_status_detailed?job_id=\" + new_job_id\n",
    "\n",
    "        # status dictionary\n",
    "        status_dictionary = {\n",
    "            'ModelExploration_Status': 'na',\n",
    "            'QueryGenerator_Status': 'na',\n",
    "            'VunerabilityEngine_Status': 'na',\n",
    "            'DefenseReport_Status': 'na',\n",
    "        }\n",
    "        counts = [0] * len(status_dictionary)\n",
    "        failed_api_hit_count = 0\n",
    "        while True:\n",
    "            time.sleep(2)\n",
    "            try:\n",
    "                job_status_response = requests.request(\"GET\", job_status_url, params={},\n",
    "                                                       headers=headers)\n",
    "\n",
    "                job_status_payload = json.loads(job_status_response.text)\n",
    "                failing_key = 'ModelExploration_Status'\n",
    "                for i, key in enumerate(status_dictionary.keys()):\n",
    "                    if status_dictionary[key] == 'na':\n",
    "                        if job_status_payload[key] == 'inprogress' and status_dictionary[key] == 'na':\n",
    "                            status_dictionary[key] = job_status_payload[key]\n",
    "                            print(str(key), \":\", status_dictionary[key])\n",
    "\n",
    "                        elif job_status_payload[key] == 'completed' or job_status_payload[key] == 'passed':\n",
    "                            status_dictionary[key] = job_status_payload[key]\n",
    "                            counts[i] += 1\n",
    "                            print(str(key), \":\", status_dictionary[key])\n",
    "\n",
    "                        if job_status_payload[key] == 'failed':\n",
    "                            failing_key = key\n",
    "                            status_dictionary[key] = job_status_payload[key]\n",
    "                            print(str(key), \":\", status_dictionary[key])\n",
    "\n",
    "                    elif job_status_payload[key] == 'completed' or job_status_payload[key] == 'passed':\n",
    "                        status_dictionary[key] = job_status_payload[key]\n",
    "                        if counts[i] < 1:\n",
    "                            print(str(key), \":\", status_dictionary[key])\n",
    "                        counts[i] += 1\n",
    "\n",
    "                    else:\n",
    "                        if job_status_payload[key] == 'failed':\n",
    "                            failing_key = key\n",
    "                            status_dictionary[key] = job_status_payload[key]\n",
    "                            print(str(key), \":\", status_dictionary[key])\n",
    "\n",
    "                if job_status_payload[failing_key] == 'failed':\n",
    "                    break\n",
    "\n",
    "                if status_dictionary['VunerabilityEngine_Status'] == 'passed' or status_dictionary[\n",
    "                    'VunerabilityEngine_Status'] == 'completed' and job_status_payload[\n",
    "                    'CurrentStatus'] == \"Defense generation is not triggered\":\n",
    "                    print(\"\\n Vulnerability score {} failed to cross vulnerability threshoold of {}\".format(\n",
    "                        job_status_payload['VulnerabiltyScore'], payload['vulnerability_threshold']))\n",
    "                    break\n",
    "                if job_status_payload['DefenseReport_Status'] == 'completed':\n",
    "                    break\n",
    "            except Exception as e:\n",
    "                failed_api_hit_count += 1\n",
    "                print(\"Error {}. trying {} ...\".format(str(e), failed_api_hit_count))\n",
    "                if failed_api_hit_count >= 3:\n",
    "                    break\n",
    "        return status_dictionary"
   ]
  },
  {
   "cell_type": "code",
   "execution_count": 54,
   "id": "684ea803",
   "metadata": {
    "id": "684ea803",
    "outputId": "468da1d3-482d-461a-f454-228a1a4ae089"
   },
   "outputs": [
    {
     "name": "stdout",
     "output_type": "stream",
     "text": [
      "ModelExploration_Status : completed\n",
      "QueryGenerator_Status : inprogress\n",
      "QueryGenerator_Status : completed\n",
      "VunerabilityEngine_Status : inprogress\n",
      "VunerabilityEngine_Status : completed\n",
      "DefenseReport_Status : inprogress\n",
      "DefenseReport_Status : completed\n"
     ]
    }
   ],
   "source": [
    "\"\"\"\n",
    "Description: Continuos monitoring of jod prwogress\n",
    "\"\"\"\n",
    "status_dictionary = monitor_api_progress(new_job_id=job_id)"
   ]
  },
  {
   "cell_type": "code",
   "execution_count": 55,
   "id": "11a1dfbc",
   "metadata": {
    "id": "11a1dfbc"
   },
   "outputs": [],
   "source": [
    "def download_artifact(job_id, report_type='Vulnerability', file_format=0):\n",
    "    \"\"\"\n",
    "    job_id: job_id  received after successful api call\n",
    "    report_type: report to be downloaded\n",
    "    file_format: change file_format to : 0- all report in zip\n",
    "                        1- report in .txt\n",
    "                        2- report in .pdf\n",
    "                        3- report in .json\n",
    "                        4- report in .xml\n",
    "    \"\"\"\n",
    "    print(\"received report_type : {} and file format is: {}\".format(report_type, file_format))\n",
    "    report_url = url + \"/\" + \"get_report?job_id=\" + str(\n",
    "        job_id) + \"&report_type=\" + report_type + \"&file_format=\" + str(file_format)\n",
    "\n",
    "    headers1 = headers\n",
    "    headers1[\"content-type\"] = \"application/zip\"\n",
    "\n",
    "    response = requests.request(\"GET\", report_url, params={}, headers=headers1)\n",
    "\n",
    "    if file_format == 0 or file_format == \"Attack_samples\":\n",
    "        with open(os.path.join(report_path, report_type + \".zip\"), 'wb') as f:\n",
    "            f.write(response.content)\n",
    "    elif file_format == 1:\n",
    "        with open(os.path.join(report_path, report_type + \".txt\"), 'wb') as f:\n",
    "            f.write(response.content)\n",
    "    elif file_format == 2:\n",
    "        with open(os.path.join(report_path, report_type + \".pdf\"), 'wb') as f:\n",
    "            f.write(response.content)\n",
    "    elif file_format == 3:\n",
    "        with open(os.path.join(report_path, report_type + \".json\"), 'wb') as f:\n",
    "            f.write(response.content)\n",
    "    elif file_format == 4:\n",
    "        with open(os.path.join(report_path, report_type + \".xml\"), 'wb') as f:\n",
    "            f.write(response.content)"
   ]
  },
  {
   "cell_type": "code",
   "execution_count": 56,
   "id": "29c293d7",
   "metadata": {
    "id": "29c293d7",
    "outputId": "7a7edc65-bcac-4f51-e637-866fb2a71c3d"
   },
   "outputs": [
    {
     "name": "stdout",
     "output_type": "stream",
     "text": [
      "received report_type : Vulnerability and file format is: 1\n",
      "received report_type : Attack_samples and file format is: 0\n",
      "received report_type : Defense and file format is: 1\n",
      "received report_type : Defense_artifact and file format is: 0\n"
     ]
    }
   ],
   "source": [
    "\"\"\"\n",
    "Description: download generated artifact\n",
    "\"\"\"\n",
    "if status_dictionary[\"VunerabilityEngine_Status\"] == 'completed':\n",
    "    download_artifact(job_id=job_id, report_type='Vulnerability', file_format=1) \n",
    "    download_artifact(job_id=job_id, report_type='Attack_samples', file_format=0)\n",
    "\n",
    "if status_dictionary[\"DefenseReport_Status\"] == 'completed':\n",
    "    download_artifact(job_id=job_id, report_type='Defense', file_format=1)\n",
    "    download_artifact(job_id=job_id, report_type='Defense_artifact', file_format=0)"
   ]
  },
  {
   "cell_type": "code",
   "execution_count": 57,
   "id": "cb096497",
   "metadata": {
    "id": "cb096497"
   },
   "outputs": [],
   "source": [
    "\"\"\"\n",
    "Description: log Vulnerability and defense report as an artifact\n",
    "\"\"\"\n",
    "with mlflow.start_run(run_id=run_id):\n",
    "    mlflow.log_artifact(os.path.join(report_path, \"Vulnerability.txt\"),  artifact_path=\"Vulnerability report\")\n",
    "    mlflow.log_artifact(os.path.join(report_path, \"Defense.txt\"),  artifact_path=\"Defense report\")\n",
    "    "
   ]
  },
  {
   "cell_type": "code",
   "execution_count": 58,
   "id": "dc823410",
   "metadata": {
    "id": "dc823410"
   },
   "outputs": [],
   "source": [
    "def zip_extractor(file, extract_path=None, delete_zip=False):\n",
    "    \"\"\"\n",
    "    extract zip file to the given path\n",
    "\n",
    "    Parameters\n",
    "    ----------\n",
    "    file : path of zip file\n",
    "    extract_path : path to extract zip file, default considered parent directory\n",
    "    delete_zip: True, delete zip file after unzipping it\n",
    "\n",
    "    Returns\n",
    "    -------\n",
    "    None.\n",
    "    \"\"\"\n",
    "    if extract_path is None:\n",
    "        extract_path = os.path.dirname(file)\n",
    "    print(\"Extracting : {}\".format(file))\n",
    "    zf = zipfile.ZipFile(file=file, mode='r')\n",
    "    zf.extractall(extract_path)\n",
    "    zf.close()\n",
    "    if delete_zip:\n",
    "        os.remove(file)\n",
    "        print(\"{} removed successfully.\".format(file))\n"
   ]
  },
  {
   "cell_type": "code",
   "execution_count": 70,
   "id": "4df6197f",
   "metadata": {
    "id": "4df6197f",
    "outputId": "3f94d78b-7c06-47d6-fccd-efd162196073"
   },
   "outputs": [
    {
     "data": {
      "text/plain": [
       "'\\nDescription: extract attack sample\\n'"
      ]
     },
     "execution_count": 70,
     "metadata": {},
     "output_type": "execute_result"
    }
   ],
   "source": [
    "\"\"\"\n",
    "Description: extract attack sample\n",
    "\"\"\"\n",
    "zip_extractor(file=os.path.join(report_path, 'Attack_samples.zip'), extract_path=sample_data)"
   ]
  },
  {
   "cell_type": "code",
   "execution_count": 60,
   "id": "00f69819",
   "metadata": {
    "id": "00f69819"
   },
   "outputs": [],
   "source": [
    "def load_data(path):\n",
    "    \"\"\"\n",
    "    path: load data from given path\n",
    "    \"\"\"\n",
    "    files_path = get_file_path(path)\n",
    "    x = []\n",
    "    for file in files_path:\n",
    "        img = cv2.imread(file, 0)\n",
    "        x.append(img)\n",
    "    x = np.expand_dims(np.array(x), axis=-1)\n",
    "    return x"
   ]
  },
  {
   "cell_type": "code",
   "execution_count": 61,
   "id": "12a33e8e",
   "metadata": {
    "id": "12a33e8e"
   },
   "outputs": [],
   "source": [
    "\"\"\"\n",
    "Description: load attack data\n",
    "\"\"\"\n",
    "x_attack = load_data(path=sample_data)"
   ]
  },
  {
   "cell_type": "code",
   "execution_count": 62,
   "id": "0c8545db",
   "metadata": {
    "id": "0c8545db",
    "outputId": "c4e3dce4-3df1-471a-b1fc-345a5dd8667e"
   },
   "outputs": [
    {
     "data": {
      "image/png": "[encoded data removed]",
      "text/plain": [
       "<Figure size 864x648 with 16 Axes>"
      ]
     },
     "metadata": {
      "needs_background": "light"
     },
     "output_type": "display_data"
    }
   ],
   "source": [
    " plot(x=x_attack, row=4)"
   ]
  },
  {
   "cell_type": "code",
   "execution_count": 63,
   "id": "330cc29d",
   "metadata": {
    "id": "330cc29d"
   },
   "outputs": [],
   "source": [
    "\"\"\"\n",
    "Description: log attack data sample as an artifact\n",
    "\"\"\"\n",
    "with mlflow.start_run(run_id=run_id):\n",
    "    files_path = get_file_path(path = sample_data)\n",
    "    for file in files_path:\n",
    "        mlflow.log_artifact(file,  artifact_path=\"sample data\")    "
   ]
  },
  {
   "cell_type": "code",
   "execution_count": 71,
   "id": "b31075d5",
   "metadata": {
    "id": "b31075d5",
    "outputId": "b1796a49-9bdc-44ad-be62-9d0c4c354e06"
   },
   "outputs": [
    {
     "data": {
      "text/plain": [
       "'\\nDescription: Extracting defense artifact\\n'"
      ]
     },
     "execution_count": 71,
     "metadata": {},
     "output_type": "execute_result"
    }
   ],
   "source": [
    "\"\"\"\n",
    "Description: Extracting defense artifact\n",
    "\"\"\"\n",
    "zip_extractor(file=os.path.join(report_path, 'Defense_artifact.zip'), extract_path=defense_artifact)"
   ]
  },
  {
   "cell_type": "code",
   "execution_count": 65,
   "id": "3f0a73e7",
   "metadata": {
    "id": "3f0a73e7"
   },
   "outputs": [],
   "source": [
    "\"\"\"\n",
    "Description: log defense artifact\n",
    "\"\"\"\n",
    "with mlflow.start_run(run_id=run_id):\n",
    "    files_path = get_file_path(path = defense_artifact)\n",
    "    for file in files_path:\n",
    "        mlflow.log_artifact(file,  artifact_path=\"defense artifact\") "
   ]
  },
  {
   "cell_type": "code",
   "execution_count": 66,
   "id": "c162029c",
   "metadata": {
    "id": "c162029c"
   },
   "outputs": [],
   "source": [
    "\"\"\"\n",
    "Description: Load defense model\n",
    "\"\"\"\n",
    "defense_model_path = os.path.join(defense_artifact,'defense_model.h5')\n",
    "defense_model = tf.keras.models.load_model(defense_model_path)"
   ]
  },
  {
   "cell_type": "code",
   "execution_count": 67,
   "id": "c876ed55",
   "metadata": {
    "id": "c876ed55"
   },
   "outputs": [],
   "source": [
    "\"\"\"\n",
    "Description: Use defense model\n",
    "\"\"\"\n",
    "from reports.defense_artifact import predict\n",
    "defense = predict.AISDefenseModel(defense_model)"
   ]
  },
  {
   "cell_type": "code",
   "execution_count": 68,
   "id": "27136067",
   "metadata": {
    "id": "27136067",
    "outputId": "9a650a79-36a0-4872-a81f-5c409000ec37"
   },
   "outputs": [
    {
     "name": "stdout",
     "output_type": "stream",
     "text": [
      "1/1 [==============================] - 0s 477ms/step\n"
     ]
    },
    {
     "name": "stderr",
     "output_type": "stream",
     "text": [
      "100%|████████████████████████████████████████████████████████████████████████████████████████████| 5/5 [00:00<?, ?it/s]"
     ]
    },
    {
     "name": "stdout",
     "output_type": "stream",
     "text": [
      "original data:\n",
      "label: ['not-attack' 'not-attack' 'not-attack' 'not-attack' 'not-attack'] \n",
      "prob: [0.99990976 0.999998   0.99997354 0.989783   0.99998033]\n"
     ]
    },
    {
     "name": "stderr",
     "output_type": "stream",
     "text": [
      "\n"
     ]
    }
   ],
   "source": [
    "\"\"\"\n",
    "Description: original data to get prediction\n",
    "\"\"\"\n",
    "label, prob = defense.predict(X_val[:5])\n",
    "print(\"original data:\\nlabel: {} \\nprob: {}\".format(label, prob))"
   ]
  },
  {
   "cell_type": "code",
   "execution_count": 69,
   "id": "4c9c283c",
   "metadata": {
    "id": "4c9c283c",
    "outputId": "b6b6591c-341b-4321-80a9-f5624aebe84c"
   },
   "outputs": [
    {
     "name": "stdout",
     "output_type": "stream",
     "text": [
      "1/1 [==============================] - 0s 163ms/step\n"
     ]
    },
    {
     "name": "stderr",
     "output_type": "stream",
     "text": [
      "100%|████████████████████████████████████████████████████████████████████████████████████████████| 5/5 [00:00<?, ?it/s]"
     ]
    },
    {
     "name": "stdout",
     "output_type": "stream",
     "text": [
      "attack data:\n",
      "label: ['attack' 'attack' 'attack' 'attack' 'attack'] \n",
      "prob: [1. 1. 1. 1. 1.]\n"
     ]
    },
    {
     "name": "stderr",
     "output_type": "stream",
     "text": [
      "\n"
     ]
    }
   ],
   "source": [
    "\"\"\"\n",
    "Description: attack data to get prediction\n",
    "\"\"\"\n",
    "label, prob = defense.predict(x_attack[:5])\n",
    "print(\"attack data:\\nlabel: {} \\nprob: {}\".format(label, prob))"
   ]
  },
  {
   "cell_type": "code",
   "execution_count": null,
   "id": "541a5a79",
   "metadata": {
    "id": "541a5a79"
   },
   "outputs": [],
   "source": []
  }
 ],
 "metadata": {
  "colab": {
   "provenance": []
  },
  "kernelspec": {
   "display_name": "Python 3 (ipykernel)",
   "language": "python",
   "name": "python3"
  },
  "language_info": {
   "codemirror_mode": {
    "name": "ipython",
    "version": 3
   },
   "file_extension": ".py",
   "mimetype": "text/x-python",
   "name": "python",
   "nbconvert_exporter": "python",
   "pygments_lexer": "ipython3",
   "version": "3.9.7"
  }
 },
 "nbformat": 4,
 "nbformat_minor": 5
}
